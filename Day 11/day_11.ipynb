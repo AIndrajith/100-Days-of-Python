{
 "cells": [
  {
   "cell_type": "code",
   "execution_count": null,
   "metadata": {},
   "outputs": [],
   "source": [
    "# Exception Handling\n",
    "\n",
    "# try , except , else, finally\n",
    "# handling multiple exceptions\n",
    "# Raising custom exceptions\n"
   ]
  },
  {
   "cell_type": "code",
   "execution_count": 4,
   "metadata": {},
   "outputs": [
    {
     "name": "stdout",
     "output_type": "stream",
     "text": [
      "Result:  2.0\n"
     ]
    }
   ],
   "source": [
    "# Exceptions - are errors that occur during the executio of a program disrupting its normal flow.\n",
    "try:\n",
    "    num = int(input(\"Enter a number: \"))\n",
    "    result = 10/num\n",
    "    print(\"Result: \",result)\n",
    "except ZeroDivisionError:\n",
    "    print(\"Error: Division by zero is not allowed.\")\n",
    "except ValueError:\n",
    "    print(\"Error: Invalid input. Please enter a valid number.\")        "
   ]
  },
  {
   "cell_type": "code",
   "execution_count": null,
   "metadata": {},
   "outputs": [],
   "source": [
    "try:\n",
    "    # code that might raise an exception\n",
    "except ExceptionType:\n",
    "    # Code to handle the exception\n",
    "else:    \n",
    "    # Execute if no exception occurs\n",
    "finally:\n",
    "    # Always execute, eve if an exception occurs   "
   ]
  },
  {
   "cell_type": "code",
   "execution_count": 5,
   "metadata": {},
   "outputs": [
    {
     "name": "stdout",
     "output_type": "stream",
     "text": [
      "Error: Division by zero is not allowed.\n",
      "Finally block executed. Program Ended.\n"
     ]
    }
   ],
   "source": [
    "try:\n",
    "    num = int(input(\"Enter a number: \"))\n",
    "    result = 10/num\n",
    "except ZeroDivisionError:\n",
    "    print(\"Error: Division by zero is not allowed.\")\n",
    "else:\n",
    "    print(\"No exception occurred. Result: \", result) \n",
    "finally:\n",
    "    print(\"Finally block executed. Program Ended.\")           "
   ]
  },
  {
   "cell_type": "code",
   "execution_count": null,
   "metadata": {},
   "outputs": [],
   "source": [
    "# handling multiple exceptions\n",
    "\n",
    "try:\n",
    "    num = int(input(\"Enter a number: \"))\n",
    "    result = 10/num\n",
    "except (ZeroDivisionError, ValueError):\n",
    "    print(\"Error: Division by zero or Invalid Input.\")"
   ]
  },
  {
   "cell_type": "code",
   "execution_count": 9,
   "metadata": {},
   "outputs": [
    {
     "name": "stdout",
     "output_type": "stream",
     "text": [
      "Invaliid withdrawal amount - Amount cannot be negative\n"
     ]
    }
   ],
   "source": [
    "# Raising multiple exceptions\n",
    "\n",
    "def withdraw(amount):\n",
    "    if amount < 0:\n",
    "        raise ValueError(\"Invaliid withdrawal amount - Amount cannot be negative\")\n",
    "    print(f\"You have withdrawn {amount}\")\n",
    "\n",
    "try:\n",
    "    withdraw(-50)\n",
    "except ValueError as e:\n",
    "    print(e)    "
   ]
  }
 ],
 "metadata": {
  "kernelspec": {
   "display_name": ".venv",
   "language": "python",
   "name": "python3"
  },
  "language_info": {
   "codemirror_mode": {
    "name": "ipython",
    "version": 3
   },
   "file_extension": ".py",
   "mimetype": "text/x-python",
   "name": "python",
   "nbconvert_exporter": "python",
   "pygments_lexer": "ipython3",
   "version": "3.12.7"
  }
 },
 "nbformat": 4,
 "nbformat_minor": 2
}
