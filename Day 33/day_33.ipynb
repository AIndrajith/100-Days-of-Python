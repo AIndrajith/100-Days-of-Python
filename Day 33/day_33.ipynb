{
 "cells": [
  {
   "cell_type": "code",
   "execution_count": null,
   "id": "5175a71c",
   "metadata": {},
   "outputs": [],
   "source": [
    "# What are Message Boxes\n",
    "# Types of Message Boxes\n",
    "# Using Message Boxes for Validation\n",
    "# Handling User Authentication"
   ]
  },
  {
   "cell_type": "code",
   "execution_count": null,
   "id": "f51bb35e",
   "metadata": {},
   "outputs": [],
   "source": [
    "# Message boxes are pop up dialogs used to show messages, warnings or confirmation Prompts.\n",
    "\n",
    "# Common uses of this include displaying error messages, showing success notifications, or asking user\n",
    "# confirmation."
   ]
  },
  {
   "cell_type": "code",
   "execution_count": null,
   "id": "4ed9847e",
   "metadata": {},
   "outputs": [],
   "source": [
    "# Types of message boxes \n",
    "# displays informational messages\n",
    "# Warning \n",
    "# display error messages\n",
    "# asked question functions which is ask a yes or no questions\n",
    "# ask okay or cacel\n",
    "# ask a retry or cancel buttons\n",
    "\n",
    "# day_33_ii.py"
   ]
  }
 ],
 "metadata": {
  "kernelspec": {
   "display_name": ".venv",
   "language": "python",
   "name": "python3"
  },
  "language_info": {
   "name": "python",
   "version": "3.12.7"
  }
 },
 "nbformat": 4,
 "nbformat_minor": 5
}
