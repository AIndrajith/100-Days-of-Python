{
 "cells": [
  {
   "cell_type": "code",
   "execution_count": null,
   "id": "22ab0c1f",
   "metadata": {},
   "outputs": [],
   "source": [
    "# Structuring a Flask Portfolio Website\n",
    "\n",
    "# Creating Dynamic Routes and Templates\n",
    "\n",
    "# Adding a Contact Form\n",
    "\n",
    "# Database for projects"
   ]
  },
  {
   "cell_type": "code",
   "execution_count": null,
   "id": "1a98867a",
   "metadata": {},
   "outputs": [],
   "source": [
    "# Structuring a Flask Portfolio Website\n",
    "\n",
    "# Now some of the core features of a portfolio website include\n",
    "# your homepage Introduction and Feature\n",
    "\n",
    "# Projects displayed here\n",
    "# Next you'll have the projects page which is list of projects with details.\n",
    "# You will have an About page which will be information about \n",
    "# yourself and finally a contact page with contact form for inquiries."
   ]
  },
  {
   "cell_type": "code",
   "execution_count": null,
   "id": "83a55944",
   "metadata": {},
   "outputs": [],
   "source": []
  }
 ],
 "metadata": {
  "kernelspec": {
   "display_name": ".venv",
   "language": "python",
   "name": "python3"
  },
  "language_info": {
   "name": "python",
   "version": "3.12.7"
  }
 },
 "nbformat": 4,
 "nbformat_minor": 5
}
