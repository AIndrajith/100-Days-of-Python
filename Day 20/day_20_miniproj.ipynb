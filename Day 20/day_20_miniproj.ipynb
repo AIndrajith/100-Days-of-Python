{
 "cells": [
  {
   "cell_type": "code",
   "execution_count": 3,
   "metadata": {},
   "outputs": [
    {
     "name": "stdout",
     "output_type": "stream",
     "text": [
      "Event set for: 2025-04-01 22:37:00\n",
      "\n",
      "Time Remaining: 0 days, 0 hours, 0 minutes, 5 seconds\n",
      "Time Remaining: 0 days, 0 hours, 0 minutes, 4 seconds\n",
      "Time Remaining: 0 days, 0 hours, 0 minutes, 3 seconds\n",
      "Time Remaining: 0 days, 0 hours, 0 minutes, 2 seconds\n",
      "Time Remaining: 0 days, 0 hours, 0 minutes, 1 seconds\n",
      "Time Remaining: 0 days, 0 hours, 0 minutes, 0 seconds\n",
      "Countdown Complete!\n"
     ]
    }
   ],
   "source": [
    "# Event Countdown Timer\n",
    "from datetime import datetime, timedelta\n",
    "import time\n",
    "\n",
    "# Step 1: Get Event Date and Time from User\n",
    "def get_event_datetime():\n",
    "  try:\n",
    "    date_input = input(\"Enter the event date (YYYY-MM-DD HH:MM:SS): \")\n",
    "    return datetime.strptime(date_input, \"%Y-%m-%d %H:%M:%S\")\n",
    "  except ValueError:\n",
    "    print(\"Invalid date format. Please use YYYY-MM-DD HH:MM:SS format.\")\n",
    "    return None\n",
    "\n",
    "# Step 2: Calculating Time Remaining\n",
    "def calculate_time_remaining(event_date):\n",
    "  current_datetime = datetime.now()\n",
    "  time_difference = event_date - current_datetime\n",
    "  return time_difference\n",
    "\n",
    "# Step 3: Display Countdown\n",
    "def display_countdown(time_left):\n",
    "  days = time_left.days\n",
    "  hours, remainder = divmod(time_left.seconds, 3600)\n",
    "  minutes, seconds = divmod(remainder, 60)\n",
    "  print(f\"\\nTime Remaining: {days} days, {hours} hours, {minutes} minutes, {seconds} seconds\", end=\"\")\n",
    "\n",
    "# Step 4: Main Countdown Loop\n",
    "def start_countdown(event_date):\n",
    "  while True:\n",
    "    time_left = calculate_time_remaining(event_date)\n",
    "    if time_left.total_seconds() <= 0:\n",
    "      print(\"\\nCountdown Complete!\")\n",
    "      break\n",
    "    display_countdown(time_left)\n",
    "    time.sleep(1)\n",
    "\n",
    "\n",
    "# Main Program\n",
    "event_datetime = get_event_datetime()\n",
    "if event_datetime:\n",
    "  print(f\"Event set for: {event_datetime}\")\n",
    "  start_countdown(event_datetime)          "
   ]
  }
 ],
 "metadata": {
  "kernelspec": {
   "display_name": ".venv",
   "language": "python",
   "name": "python3"
  },
  "language_info": {
   "codemirror_mode": {
    "name": "ipython",
    "version": 3
   },
   "file_extension": ".py",
   "mimetype": "text/x-python",
   "name": "python",
   "nbconvert_exporter": "python",
   "pygments_lexer": "ipython3",
   "version": "3.12.7"
  }
 },
 "nbformat": 4,
 "nbformat_minor": 2
}
