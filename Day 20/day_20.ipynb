{
 "cells": [
  {
   "cell_type": "code",
   "execution_count": null,
   "metadata": {},
   "outputs": [],
   "source": [
    "# Understanding the datetime Module\n",
    "# Working with Dates and Times\n",
    "# Formatting Dates and Times\n",
    "# Calculating time Differences"
   ]
  },
  {
   "cell_type": "code",
   "execution_count": null,
   "metadata": {},
   "outputs": [
    {
     "name": "stdout",
     "output_type": "stream",
     "text": [
      "Current Date and Time:  2025-04-01 21:54:13.871132\n"
     ]
    }
   ],
   "source": [
    "# Python's DateTime module provides classes to work with dates , times and durations.\n",
    "# We have date which represents a calendar, date, year, month, and day.\n",
    "# We have time which represents time in hours, minutes and seconds.\n",
    "# And we have date time, which represents both date and time.\n",
    "# And we have time Delta which represents a duration of difference between two dates or times.\n",
    "\n",
    "\n",
    "# Working with dates and times\n",
    "\n",
    "from datetime import datetime\n",
    "\n",
    "current_time = datetime.now()\n",
    "print(\"Current Date and Time: \",current_time)\n"
   ]
  },
  {
   "cell_type": "code",
   "execution_count": 2,
   "metadata": {},
   "outputs": [
    {
     "name": "stdout",
     "output_type": "stream",
     "text": [
      "Event Date and Time:  2025-12-25 09:00:00\n"
     ]
    }
   ],
   "source": [
    "from datetime import datetime\n",
    "\n",
    "event_date = datetime(2025, 12, 25, 9, 0, 0)\n",
    "print(\"Event Date and Time: \",event_date)"
   ]
  },
  {
   "cell_type": "code",
   "execution_count": null,
   "metadata": {},
   "outputs": [
    {
     "name": "stdout",
     "output_type": "stream",
     "text": [
      "Formatted Time:  2025-04-01 21:59:39\n"
     ]
    }
   ],
   "source": [
    "# Formatting dates and times\n",
    "\n",
    "from datetime import datetime\n",
    "\n",
    "current_time = datetime.now()\n",
    "formatted_time = current_time.strftime(\"%Y-%m-%d %H:%M:%S\")  # strftime = string format time\n",
    "print(\"Formatted Time: \", formatted_time)\n",
    "\n",
    "# there has no miliseconds part in time"
   ]
  },
  {
   "cell_type": "code",
   "execution_count": 6,
   "metadata": {},
   "outputs": [
    {
     "name": "stdout",
     "output_type": "stream",
     "text": [
      "Days and time Remaining:  267 days, 1:55:13.716498\n",
      "Days Remaining:  267\n"
     ]
    }
   ],
   "source": [
    "# Calculate Time differences\n",
    "\n",
    "from datetime import datetime\n",
    "event_date = datetime(2025, 12, 25)\n",
    "current_date = datetime.now()\n",
    "time_difference = event_date - current_date\n",
    "print(\"Days and time Remaining: \",time_difference)\n",
    "print(\"Days Remaining: \",time_difference.days)"
   ]
  }
 ],
 "metadata": {
  "kernelspec": {
   "display_name": ".venv",
   "language": "python",
   "name": "python3"
  },
  "language_info": {
   "codemirror_mode": {
    "name": "ipython",
    "version": 3
   },
   "file_extension": ".py",
   "mimetype": "text/x-python",
   "name": "python",
   "nbconvert_exporter": "python",
   "pygments_lexer": "ipython3",
   "version": "3.12.7"
  }
 },
 "nbformat": 4,
 "nbformat_minor": 2
}
