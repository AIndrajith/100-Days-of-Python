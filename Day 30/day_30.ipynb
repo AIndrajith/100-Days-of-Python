{
 "cells": [
  {
   "cell_type": "code",
   "execution_count": null,
   "id": "01f42c36",
   "metadata": {},
   "outputs": [],
   "source": [
    "# How Buttons work in Tkinter\n",
    "# Binding Events to Button\n",
    "# Dynamic Updates Using Button Events\n",
    "# Managing Button States"
   ]
  },
  {
   "cell_type": "code",
   "execution_count": null,
   "id": "fb919de1",
   "metadata": {},
   "outputs": [],
   "source": [
    "# How Buttons work in Tkinter\n",
    "# Buttons are widgets in Tkinter that trigger an event handler when clicked.\n",
    "# Events can call functions, update variavles or modify other widgets and the command parameter in button links it to a specific function.\n",
    "# day_30_i.py describes the above facts\n",
    "\n",
    "# Binding Events to Button\n",
    "# Buttons can respond o specific events beyond clicking, example it has hovering and releasing.\n",
    "# day_30_ii.py describes the what how to do mouse over or hover over the button\n",
    "\n",
    "# Dynamic Updates Using Button Events\n",
    "#day_30_iii.py \n",
    "\n",
    "# Managing Button States\n",
    "# Buttons can be active which is usable by the user. \n",
    "# We have seen probably in some websites where you can do stuff and suddenly for some reasons the button is disabled, \n",
    "# like we have a form and if we have not filled out all the field in the form or the required fields in the form, it is disabled.\n",
    "# day_30_iv.py "
   ]
  }
 ],
 "metadata": {
  "kernelspec": {
   "display_name": ".venv",
   "language": "python",
   "name": "python3"
  },
  "language_info": {
   "name": "python",
   "version": "3.12.7"
  }
 },
 "nbformat": 4,
 "nbformat_minor": 5
}
