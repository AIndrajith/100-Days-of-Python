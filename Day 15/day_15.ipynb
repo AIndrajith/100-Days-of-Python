{
 "cells": [
  {
   "cell_type": "code",
   "execution_count": null,
   "metadata": {},
   "outputs": [],
   "source": [
    "# File reading\n",
    "# Reading files using open()\n",
    "# Reading Modes(r, rb, r++)\n",
    "# Handling File reading Errors\n"
   ]
  },
  {
   "cell_type": "code",
   "execution_count": 2,
   "metadata": {},
   "outputs": [
    {
     "name": "stdout",
     "output_type": "stream",
     "text": [
      "Recipe: Pancakes\n",
      "Ingredients: Flour, Milk, Eggs, Suggar\n",
      "Instructions: Mix and fry\n"
     ]
    }
   ],
   "source": [
    "# File Reading is the process of accessing and extracting data from a file.\n",
    "\n",
    "with open(\"sample.txt\",\"r\") as file:\n",
    "    content = file.read()\n",
    "    print(content)"
   ]
  },
  {
   "cell_type": "code",
   "execution_count": 3,
   "metadata": {},
   "outputs": [
    {
     "name": "stdout",
     "output_type": "stream",
     "text": [
      "Recipe: Pancakes\n",
      "Ingredients: Flour, Milk, Eggs, Suggar\n",
      "Instructions: Mix and fry\n"
     ]
    }
   ],
   "source": [
    "with open(\"sample.txt\",\"r\") as file:\n",
    "    for line in file: \n",
    "        print(line.strip())"
   ]
  },
  {
   "cell_type": "code",
   "execution_count": null,
   "metadata": {},
   "outputs": [],
   "source": [
    "# r = read file\n",
    "# rb = read a binary file\n",
    "# r+ = read and write"
   ]
  },
  {
   "cell_type": "code",
   "execution_count": 5,
   "metadata": {},
   "outputs": [
    {
     "name": "stdout",
     "output_type": "stream",
     "text": [
      "Recipe: Pancakes\n",
      "Ingredients: Flour, Milk, Eggs, Suggar\n",
      "Instructions: Mix and fry\n"
     ]
    }
   ],
   "source": [
    "with open(\"sample.txt\",\"r\") as file:\n",
    "    lines = file.readlines()\n",
    "    for line in lines: \n",
    "        print(line.strip())"
   ]
  },
  {
   "cell_type": "code",
   "execution_count": 6,
   "metadata": {},
   "outputs": [
    {
     "name": "stdout",
     "output_type": "stream",
     "text": [
      "Recipe: Pancakes\n",
      "Ingredients: Flour, Milk, Eggs, Suggar\n",
      "Instructions: Mix and fry\n"
     ]
    }
   ],
   "source": [
    "# handling file reading errors\n",
    "try:\n",
    "    with open(\"sample.txt\",\"r\") as file:\n",
    "        content1 = file.read() \n",
    "        print(content1)\n",
    "except FileNotFoundError:\n",
    "    print(\"File not found.\")    "
   ]
  }
 ],
 "metadata": {
  "kernelspec": {
   "display_name": ".venv",
   "language": "python",
   "name": "python3"
  },
  "language_info": {
   "codemirror_mode": {
    "name": "ipython",
    "version": 3
   },
   "file_extension": ".py",
   "mimetype": "text/x-python",
   "name": "python",
   "nbconvert_exporter": "python",
   "pygments_lexer": "ipython3",
   "version": "3.12.7"
  }
 },
 "nbformat": 4,
 "nbformat_minor": 2
}
