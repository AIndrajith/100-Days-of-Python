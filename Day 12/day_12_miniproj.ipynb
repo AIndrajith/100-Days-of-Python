{
 "cells": [
  {
   "cell_type": "code",
   "execution_count": 1,
   "metadata": {},
   "outputs": [
    {
     "name": "stdout",
     "output_type": "stream",
     "text": [
      "\n",
      "--- Temperature Converter Menu ---\n",
      "1. Celsius to Fahrenheit & Kelvin\n",
      "2. Fahrenheit to Celsius & Kelvin\n",
      "3. Kelvin to Celsius & Kelvin\n",
      "4. Exit\n",
      "Invalid choice. Please select a valid option.\n",
      "\n",
      "--- Temperature Converter Menu ---\n",
      "1. Celsius to Fahrenheit & Kelvin\n",
      "2. Fahrenheit to Celsius & Kelvin\n",
      "3. Kelvin to Celsius & Kelvin\n",
      "4. Exit\n",
      "Fahrenheit: 50.00\n",
      "Kelvin: 283.15\n",
      "\n",
      "--- Temperature Converter Menu ---\n",
      "1. Celsius to Fahrenheit & Kelvin\n",
      "2. Fahrenheit to Celsius & Kelvin\n",
      "3. Kelvin to Celsius & Kelvin\n",
      "4. Exit\n",
      "Exiting the program, Goodbye!\n"
     ]
    }
   ],
   "source": [
    "# Temperature Converter\n",
    "\n",
    "# Step 1 : Define Conversion functions\n",
    "def celsius_to_fahrenheit(celsius):\n",
    "    return (celsius * 9/5) + 32\n",
    "\n",
    "def celsius_to_kelvin(celsius):\n",
    "    return celsius + 273.15\n",
    "\n",
    "def fahrenheit_to_celsius(fahrenheit):\n",
    "    return (fahrenheit - 32) * 5/9\n",
    "\n",
    "def fahrenheit_to_kelvin(fahrenheit):\n",
    "    return (fahrenheit -32) * 5/9 + 273.15\n",
    "\n",
    "def kelvin_to_celsius(kelvin):\n",
    "    return kelvin - 273.15\n",
    "\n",
    "def kelvin_to_fahrenheit(kelvin):\n",
    "    return (kelvin - 273.15) * 9/5 + 32\n",
    "\n",
    "# Step 2: Display the menu\n",
    "def show_menu():\n",
    "    print(\"\\n--- Temperature Converter Menu ---\")\n",
    "    print(\"1. Celsius to Fahrenheit & Kelvin\")\n",
    "    print(\"2. Fahrenheit to Celsius & Kelvin\")\n",
    "    print(\"3. Kelvin to Celsius & Kelvin\")\n",
    "    print(\"4. Exit\")\n",
    "\n",
    "\n",
    "# Step 3: Main Program Loop\n",
    "while True:\n",
    "    show_menu()\n",
    "    choice = input(\"Enter your choice(1/2/3/4): \")\n",
    "\n",
    "    if choice == \"1\":\n",
    "        celsius = float(input(\"Enter temperature in Celsius: \"))\n",
    "        print(f\"Fahrenheit: {celsius_to_fahrenheit(celsius):.2f}\")  \n",
    "        print(f\"Kelvin: {celsius_to_kelvin(celsius):.2f}\")\n",
    "    elif choice == \"2\":\n",
    "        fahrenheit = float(input(\"Enter temperature in Fahrenheit: \"))\n",
    "        print(f\"Celsius: {fahrenheit_to_celsius(fahrenheit):.2f}\")\n",
    "        print(f\"Kelvin: {fahrenheit_to_kelvin(fahrenheit):.2f}\")\n",
    "    elif choice == \"3\":\n",
    "        kelvin = float(input(\"Enter temperature in Kelvin: \"))\n",
    "        print(f\"Celsius: {kelvin_to_celsius(kelvin):.2f}\")\n",
    "        print(f\"Farneheit: {(kelvin_to_fahrenheit):.2f}\")\n",
    "    elif choice == \"4\":\n",
    "        print(\"Exiting the program, Goodbye!\")\n",
    "        break\n",
    "    else:\n",
    "        print(\"Invalid choice. Please select a valid option.\")\n"
   ]
  }
 ],
 "metadata": {
  "kernelspec": {
   "display_name": ".venv",
   "language": "python",
   "name": "python3"
  },
  "language_info": {
   "codemirror_mode": {
    "name": "ipython",
    "version": 3
   },
   "file_extension": ".py",
   "mimetype": "text/x-python",
   "name": "python",
   "nbconvert_exporter": "python",
   "pygments_lexer": "ipython3",
   "version": "3.12.7"
  }
 },
 "nbformat": 4,
 "nbformat_minor": 2
}
