{
 "cells": [
  {
   "cell_type": "code",
   "execution_count": null,
   "metadata": {},
   "outputs": [],
   "source": [
    "# Return Values in Functions\n",
    "# Perform Calculations\n",
    "# Return Multiple Values\n",
    "# Best Practices"
   ]
  },
  {
   "cell_type": "code",
   "execution_count": null,
   "metadata": {},
   "outputs": [],
   "source": [
    "# Return Values \n",
    "# this allows the function to send a result back to the place where it was called\n",
    "\n",
    "def function_name():\n",
    "    #code \n",
    "    return value\n",
    "\n",
    "# Why use return values\n",
    "# Functions become modular and reusable so you can kind of use this anyways you want\n",
    "# they allow you to process data and return results."
   ]
  },
  {
   "cell_type": "code",
   "execution_count": 2,
   "metadata": {},
   "outputs": [
    {
     "name": "stdout",
     "output_type": "stream",
     "text": [
      "30\n"
     ]
    }
   ],
   "source": [
    "def add(a,b):\n",
    "    return a+ b\n",
    "\n",
    "result = add(10,20)\n",
    "print(result)"
   ]
  },
  {
   "cell_type": "code",
   "execution_count": 4,
   "metadata": {},
   "outputs": [
    {
     "name": "stdout",
     "output_type": "stream",
     "text": [
      "200\n"
     ]
    }
   ],
   "source": [
    "# Perform Calculations\n",
    "def rectangle_area(width,height):\n",
    "    return width*height\n",
    "\n",
    "area = rectangle_area(10,20)\n",
    "print(area)"
   ]
  },
  {
   "cell_type": "code",
   "execution_count": null,
   "metadata": {},
   "outputs": [
    {
     "name": "stdout",
     "output_type": "stream",
     "text": [
      "(15, 5, 50, 2.0)\n",
      "15\n",
      "25\n"
     ]
    }
   ],
   "source": [
    "# Return multiple values\n",
    "\n",
    "def math_operations(a,b):\n",
    "    addition = a + b\n",
    "    substraction = a-b\n",
    "    multiplication = a*b\n",
    "    division = a/b\n",
    "    return addition, substraction, multiplication, division\n",
    "\n",
    "result = math_operations(10, 5)\n",
    "print(result)\n",
    "\n",
    "add , substract, multiply, divide = math_operations(20,5)\n",
    "print(substract)\n",
    "print(add)"
   ]
  },
  {
   "cell_type": "code",
   "execution_count": null,
   "metadata": {},
   "outputs": [],
   "source": []
  }
 ],
 "metadata": {
  "kernelspec": {
   "display_name": ".venv",
   "language": "python",
   "name": "python3"
  },
  "language_info": {
   "codemirror_mode": {
    "name": "ipython",
    "version": 3
   },
   "file_extension": ".py",
   "mimetype": "text/x-python",
   "name": "python",
   "nbconvert_exporter": "python",
   "pygments_lexer": "ipython3",
   "version": "3.12.7"
  }
 },
 "nbformat": 4,
 "nbformat_minor": 2
}
