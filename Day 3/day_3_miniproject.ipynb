{
 "cells": [
  {
   "cell_type": "code",
   "execution_count": 2,
   "metadata": {},
   "outputs": [
    {
     "name": "stdout",
     "output_type": "stream",
     "text": [
      "\n",
      "-----Calculator-----\n",
      "Addition: 12.0 + 23.0 = 35.0\n",
      "Substraction: 12.0 - 23.0 = -11.0\n",
      "Multiplication: 12.0 x 23.0 = 276.0\n",
      "Division: 12.0 / 23.0 = 0.5217391304347826\n"
     ]
    }
   ],
   "source": [
    "#  Simple Calculator\n",
    "\n",
    "# Step 1: Get user input for two numbers\n",
    "number1 = float(input(\"Enter the first number: \"))\n",
    "number2 = float(input(\"Enter the second number: \"))\n",
    "\n",
    "# Step 2: Perform arithmetic operation\n",
    "add = number1 + number2\n",
    "sub = number1 - number2\n",
    "mul = number1 * number2\n",
    "div = number1 / number2\n",
    "\n",
    "# Step 3: Display the results\n",
    "print(\"\\n-----Calculator-----\")\n",
    "print(f\"Addition: {number1} + {number2} = {add}\")\n",
    "print(f\"Substraction: {number1} - {number2} = {sub}\")\n",
    "print(f\"Multiplication: {number1} x {number2} = {mul}\")\n",
    "print(f\"Division: {number1} / {number2} = {div}\")"
   ]
  }
 ],
 "metadata": {
  "kernelspec": {
   "display_name": ".venv",
   "language": "python",
   "name": "python3"
  },
  "language_info": {
   "codemirror_mode": {
    "name": "ipython",
    "version": 3
   },
   "file_extension": ".py",
   "mimetype": "text/x-python",
   "name": "python",
   "nbconvert_exporter": "python",
   "pygments_lexer": "ipython3",
   "version": "3.12.7"
  }
 },
 "nbformat": 4,
 "nbformat_minor": 2
}
