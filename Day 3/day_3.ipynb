{
 "cells": [
  {
   "cell_type": "code",
   "execution_count": 2,
   "metadata": {},
   "outputs": [
    {
     "name": "stdout",
     "output_type": "stream",
     "text": [
      "Hello, Indrajith\n"
     ]
    }
   ],
   "source": [
    "# user input with int()\n",
    "# Type conversion (int() and float())\n",
    "# String Formatting with f-Strings\n",
    "# Basic Arithmetic Operations\n",
    "\n",
    "name = input(\"Enter your name: \")\n",
    "print(f\"Hello, {name}\")"
   ]
  },
  {
   "cell_type": "code",
   "execution_count": 3,
   "metadata": {},
   "outputs": [
    {
     "name": "stdout",
     "output_type": "stream",
     "text": [
      "Number doubled: 90.0\n"
     ]
    }
   ],
   "source": [
    "num1 = input(\"Enter a number: \")\n",
    "num1 = float(num1) \n",
    "print(f\"Number doubled: {num1 * 2}\")"
   ]
  },
  {
   "cell_type": "code",
   "execution_count": 4,
   "metadata": {},
   "outputs": [
    {
     "name": "stdout",
     "output_type": "stream",
     "text": [
      "Number intergered: 24\n"
     ]
    }
   ],
   "source": [
    "num1 = input(\"Enter a number: \")\n",
    "num1 = int(num1) \n",
    "print(f\"Number intergered: {num1 * 2}\")"
   ]
  },
  {
   "cell_type": "code",
   "execution_count": 5,
   "metadata": {},
   "outputs": [
    {
     "name": "stdout",
     "output_type": "stream",
     "text": [
      "The sum of 12 and 23 is 35\n"
     ]
    }
   ],
   "source": [
    "num1 = int(input(\"Enter first number: \"))\n",
    "num2 = int(input(\"Enter second number: \"))\n",
    "result = num1 + num2\n",
    "\n",
    "print(f\"The sum of {num1} and {num2} is {result}\") "
   ]
  },
  {
   "cell_type": "code",
   "execution_count": 7,
   "metadata": {},
   "outputs": [
    {
     "name": "stdout",
     "output_type": "stream",
     "text": [
      "Addition: 15\n",
      "Substraction: 5\n",
      "Multiplication: 50\n",
      "Divion: 2.0\n",
      "Floor Divion: 2\n",
      "Modulus: 0\n",
      "Exponentiation: 100000\n"
     ]
    }
   ],
   "source": [
    "a = 10 \n",
    "b = 5\n",
    "\n",
    "print(f\"Addition: {a + b}\")\n",
    "print(f\"Substraction: {a - b}\")\n",
    "print(f\"Multiplication: {a * b}\")\n",
    "print(f\"Divion: {a / b}\")\n",
    "print(f\"Floor Divion: {a // b}\")\n",
    "print(f\"Modulus: {a % b}\")\n",
    "print(f\"Exponentiation: {a ** b}\")"
   ]
  }
 ],
 "metadata": {
  "kernelspec": {
   "display_name": ".venv",
   "language": "python",
   "name": "python3"
  },
  "language_info": {
   "codemirror_mode": {
    "name": "ipython",
    "version": 3
   },
   "file_extension": ".py",
   "mimetype": "text/x-python",
   "name": "python",
   "nbconvert_exporter": "python",
   "pygments_lexer": "ipython3",
   "version": "3.12.7"
  }
 },
 "nbformat": 4,
 "nbformat_minor": 2
}
