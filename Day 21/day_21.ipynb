{
 "cells": [
  {
   "cell_type": "code",
   "execution_count": null,
   "metadata": {},
   "outputs": [],
   "source": [
    "# Web Scraping\n",
    "# HTML Structure\n",
    "# Using requests to Fetch Web Pages\n",
    "# Using BeautifulSoup for Parsing"
   ]
  },
  {
   "cell_type": "code",
   "execution_count": null,
   "metadata": {},
   "outputs": [],
   "source": [
    "# Web Scraping - is the process of extracting information from websites.\n",
    "# Commonly used for data collection, market research, content aggregation, automation tasks\n",
    "\n",
    "# how its works? \n",
    "# you fetch the website content using request, then we parse the HTML content using BeautifulSoap\n"
   ]
  },
  {
   "cell_type": "code",
   "execution_count": null,
   "metadata": {},
   "outputs": [],
   "source": [
    "# HTML STRUCTURE\n",
    "\n",
    "<html>\n",
    "    <head>\n",
    "        <title>Sample Page</title>\n",
    "    </head>\n",
    "    <body>\n",
    "        <h1>Main Title</h1>\n",
    "        <p>This is a sample paragraph</p>\n",
    "        <a href=\"https://example.com\">Click here</a>\n",
    "    </body>\n",
    "</html>"
   ]
  },
  {
   "cell_type": "code",
   "execution_count": null,
   "metadata": {},
   "outputs": [],
   "source": [
    "pip install requests beautifulsoup4"
   ]
  },
  {
   "cell_type": "code",
   "execution_count": null,
   "metadata": {},
   "outputs": [
    {
     "name": "stdout",
     "output_type": "stream",
     "text": [
      "<!DOCTYPE html>\n",
      "<html class=\"client-nojs vector-feature-language-in-header-enabled vector-feature-language-in-main-page-header-disabled vector-feature-page-tools-pinned-disabled vector-feature-toc-pinned-clientpref-1 vector-feature-main-menu-pinned-disabled vector-feature-limited-width-clientpref-1 vector-feature-limited-width-content-enabled vector-feature-custom-font-size-clientpref-1 vector-feature-appearance-pinned-clientpref-1 vector-feature-night-mode-enabled skin-theme-clientpref-day vect\n"
     ]
    }
   ],
   "source": [
    "# Requests to Fetch Web Pages\n",
    "\n",
    "# https://en.wikipedia.org/wiki/Python_(programming_language)\n",
    "\n",
    "import requests\n",
    "\n",
    "url = \"https://en.wikipedia.org/wiki/Python_(programming_language)\"\n",
    "response = requests.get(url)\n",
    "\n",
    "if response.status_code == 200:\n",
    "    print(response.text[:500])\n",
    "else:\n",
    "    print(f\"Failed to retrieve data. Status code: {response.status_code}\")    "
   ]
  },
  {
   "cell_type": "code",
   "execution_count": 4,
   "metadata": {},
   "outputs": [
    {
     "name": "stdout",
     "output_type": "stream",
     "text": [
      "Main Title\n",
      "This is a sample paragraph\n"
     ]
    }
   ],
   "source": [
    "# using BeautifulSoup for Parsing\n",
    "\n",
    "# Parsing meaning going through the text one time, one at a time\n",
    "\n",
    "from bs4 import BeautifulSoup\n",
    "\n",
    "html_content = \"<h1>Main Title</h1><p>This is a sample paragraph</p><a href='https://example.com'>Click here</a>\"\n",
    "soup = BeautifulSoup(html_content,\"html.parser\")\n",
    "\n",
    "print(soup.h1.text)\n",
    "print(soup.p.text)"
   ]
  }
 ],
 "metadata": {
  "kernelspec": {
   "display_name": ".venv",
   "language": "python",
   "name": "python3"
  },
  "language_info": {
   "codemirror_mode": {
    "name": "ipython",
    "version": 3
   },
   "file_extension": ".py",
   "mimetype": "text/x-python",
   "name": "python",
   "nbconvert_exporter": "python",
   "pygments_lexer": "ipython3",
   "version": "3.12.7"
  }
 },
 "nbformat": 4,
 "nbformat_minor": 2
}
