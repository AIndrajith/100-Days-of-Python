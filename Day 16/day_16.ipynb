{
 "cells": [
  {
   "cell_type": "code",
   "execution_count": null,
   "metadata": {},
   "outputs": [],
   "source": [
    "# File writigng in python\n",
    "# Writing to Files(w mode)\n",
    "# Appending to files(a mode )\n",
    "# Handling File writing Errors\n"
   ]
  },
  {
   "cell_type": "code",
   "execution_count": null,
   "metadata": {},
   "outputs": [],
   "source": [
    "# File writing involves storing data into W for later retrieval.\n",
    "# Python allows to write o files using the open Function with appropriate modes w, A, w+ , etc\n",
    "\n",
    "# W  = writing mode (which overwrites the file if it exists or creates a new file)\n",
    "# A  = append mode (which adds content to the end of an existing file)\n",
    "# W+ = is write and read mode"
   ]
  },
  {
   "cell_type": "code",
   "execution_count": 1,
   "metadata": {},
   "outputs": [],
   "source": [
    "# writing to files using w mode\n",
    "with open(\"journal.txt\",\"w\") as file:\n",
    "    file.write(\"Day 1: Today I learned about writing files in Python.\\n\")"
   ]
  },
  {
   "cell_type": "code",
   "execution_count": 2,
   "metadata": {},
   "outputs": [],
   "source": [
    "# Appending to files using a mode \n",
    "with open(\"journal.txt\", \"a\") as file:\n",
    "    file.write(\"Day 2: I built a journal logger today! \\n\")"
   ]
  },
  {
   "cell_type": "code",
   "execution_count": null,
   "metadata": {},
   "outputs": [],
   "source": [
    "# Handling file writing errors\n",
    "try: \n",
    "    with open(\"/restricted/journal.txt\",\"w\") as file:\n",
    "        file.write(\"Test Entry\")\n",
    "except PermissionError:\n",
    "    print(\"You do not have permission to write to the file.\")        "
   ]
  }
 ],
 "metadata": {
  "kernelspec": {
   "display_name": ".venv",
   "language": "python",
   "name": "python3"
  },
  "language_info": {
   "codemirror_mode": {
    "name": "ipython",
    "version": 3
   },
   "file_extension": ".py",
   "mimetype": "text/x-python",
   "name": "python",
   "nbconvert_exporter": "python",
   "pygments_lexer": "ipython3",
   "version": "3.12.7"
  }
 },
 "nbformat": 4,
 "nbformat_minor": 2
}
