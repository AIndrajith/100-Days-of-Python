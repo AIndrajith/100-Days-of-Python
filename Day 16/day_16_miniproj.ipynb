{
 "cells": [
  {
   "cell_type": "code",
   "execution_count": 8,
   "metadata": {},
   "outputs": [
    {
     "name": "stdout",
     "output_type": "stream",
     "text": [
      "\n",
      "--- Daily Journal Logger ---\n",
      "1. Add a new entry\n",
      "2. View all entries\n",
      "3. Search entries by keyword\n",
      "4. Exit\n",
      "Exiting the program. Goodbye!\n"
     ]
    }
   ],
   "source": [
    "# Daily Journal Logger\n",
    "\n",
    "# Step 1: Define the journal file\n",
    "JOURNAL_FILE = 'daily_journal.txt'\n",
    "\n",
    "# Step 2: Add a new entry\n",
    "def add_entry():\n",
    "    entry = input(\"Write your journal entry: \")\n",
    "    with open(JOURNAL_FILE,\"a\") as file:\n",
    "        file.write(entry + '\\n')\n",
    "    print(\"Entry added successfully!\")\n",
    "\n",
    "# Step 3: View all entries\n",
    "def view_entries():\n",
    "    try:\n",
    "        with open(JOURNAL_FILE,\"r\") as file:\n",
    "            content = file.read()\n",
    "            if content:\n",
    "                print(\"\\n---- Your Journal Entries ----\")\n",
    "                print(content)\n",
    "            else:\n",
    "                print(\"No entries found. Start writing today\") \n",
    "    except FileNotFoundError:\n",
    "        print(\"No journal file found. Add an entry first!\")\n",
    "\n",
    "# Step 4: Search entries by keyword\n",
    "def search_entries():\n",
    "    keyword = input(\"Enter a keyword to search for: \").lower()\n",
    "    try:\n",
    "        with open(JOURNAL_FILE,'r') as file: \n",
    "            content = file.readlines()\n",
    "            found = False\n",
    "            print(\"\\n---- Search Results ----\")\n",
    "            for entry in content:\n",
    "                if keyword in entry.lower():\n",
    "                    print(entry.stripe())\n",
    "                    found = True\n",
    "                if not found:\n",
    "                    print(\"No matching entries found.\")\n",
    "    except FileNotFoundError:\n",
    "        print(\"No journal file found. Add an entry first!\")\n",
    "\n",
    "# Step 5: Display Menu\n",
    "def show_menu():\n",
    "  print(\"\\n--- Daily Journal Logger ---\")\n",
    "  print(\"1. Add a new entry\")\n",
    "  print(\"2. View all entries\")\n",
    "  print(\"3. Search entries by keyword\")\n",
    "  print(\"4. Exit\")\n",
    "\n",
    "# Step 6: Main Program Loop\n",
    "while True:\n",
    "  show_menu()\n",
    "  choice = input(\"Enter your choice (1-4): \").strip()\n",
    "\n",
    "  if choice == '1':\n",
    "    add_entry()\n",
    "  elif choice == '2':\n",
    "    view_entries()\n",
    "  elif choice == '3':\n",
    "    search_entries()\n",
    "  elif choice == '4':\n",
    "    print(\"Exiting the program. Goodbye!\")\n",
    "    break\n",
    "  else:\n",
    "    print(\"Invalid choice. Please enter a number between 1 and 4.\")                            "
   ]
  }
 ],
 "metadata": {
  "kernelspec": {
   "display_name": ".venv",
   "language": "python",
   "name": "python3"
  },
  "language_info": {
   "codemirror_mode": {
    "name": "ipython",
    "version": 3
   },
   "file_extension": ".py",
   "mimetype": "text/x-python",
   "name": "python",
   "nbconvert_exporter": "python",
   "pygments_lexer": "ipython3",
   "version": "3.12.7"
  }
 },
 "nbformat": 4,
 "nbformat_minor": 2
}
