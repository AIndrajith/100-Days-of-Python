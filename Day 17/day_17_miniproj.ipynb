{
 "cells": [
  {
   "cell_type": "code",
   "execution_count": 1,
   "metadata": {},
   "outputs": [
    {
     "name": "stdout",
     "output_type": "stream",
     "text": [
      "Student report generated in student_report.csv successfully.\n"
     ]
    }
   ],
   "source": [
    "# Student Report Generator\n",
    "import csv\n",
    "\n",
    "# Step 1: Read student data and calculate avergaes\n",
    "def process_student_data(input_file, output_file):\n",
    "  try:\n",
    "    with open(input_file, 'r') as infile:\n",
    "      reader = csv.DictReader(infile)\n",
    "      student_reports = []\n",
    "\n",
    "      for row in reader:\n",
    "        name = row['Name']\n",
    "        math = int(row['Math'])\n",
    "        science = int(row['Science'])\n",
    "        english = int(row['English'])\n",
    "        average = round((math + science + english) / 3, 2)\n",
    "        status = \"Pass\" if average >= 60 else \"Fail\"\n",
    "\n",
    "        student_reports.append({\n",
    "          'Name': name,\n",
    "          'Math': math,\n",
    "          'Science': science,\n",
    "          'English': english,\n",
    "          'Average': average,\n",
    "          'Status': status\n",
    "        })\n",
    "\n",
    "    # Step 2: Write processed data to a new CSV\n",
    "    with open(output_file, 'w', newline='') as outfile:\n",
    "      fieldnames = ['Name', 'Math', 'Science', 'English', 'Average', 'Status']\n",
    "      writer = csv.DictWriter(outfile, fieldnames=fieldnames)\n",
    "      writer.writeheader()\n",
    "      writer.writerows(student_reports)\n",
    "\n",
    "    print(f\"Student report generated in {output_file} successfully.\")\n",
    "\n",
    "  except FileNotFoundError:\n",
    "    print(f\"Error: File '{input_file}' not found\")\n",
    "  except KeyError:\n",
    "    print(\"Error: Invalid column names in the input file\")\n",
    "  except Exception as e:\n",
    "    print(f\"An error occurred: {e}\")\n",
    "\n",
    "# Main Program\n",
    "input_file = 'students.csv'\n",
    "output_file = 'student_report.csv'\n",
    "\n",
    "process_student_data(input_file, output_file)"
   ]
  }
 ],
 "metadata": {
  "kernelspec": {
   "display_name": ".venv",
   "language": "python",
   "name": "python3"
  },
  "language_info": {
   "codemirror_mode": {
    "name": "ipython",
    "version": 3
   },
   "file_extension": ".py",
   "mimetype": "text/x-python",
   "name": "python",
   "nbconvert_exporter": "python",
   "pygments_lexer": "ipython3",
   "version": "3.12.7"
  }
 },
 "nbformat": 4,
 "nbformat_minor": 2
}
