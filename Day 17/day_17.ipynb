{
 "cells": [
  {
   "cell_type": "code",
   "execution_count": null,
   "metadata": {},
   "outputs": [],
   "source": [
    "# csv files\n",
    "# Reading csv\n",
    "# writing csv\n",
    "# using csv modules"
   ]
  },
  {
   "cell_type": "code",
   "execution_count": null,
   "metadata": {},
   "outputs": [],
   "source": [
    "# CSV or comma separated values files are plain text files that store tabular data.\n",
    "# Each line represents a row and each value is separated by a comma.\n",
    "# Commonly used in spreadsheets, databases and data analysis is where you'll see it\n",
    "\n",
    "# csv file looks like\n",
    "Name,Math,Science,English\n",
    "Alice,85,90,88\n",
    "Bob,75,80,72\n",
    "Charlie,95,98,97"
   ]
  },
  {
   "cell_type": "code",
   "execution_count": 1,
   "metadata": {},
   "outputs": [
    {
     "name": "stdout",
     "output_type": "stream",
     "text": [
      "['Name', 'Math', 'Science', 'English']\n",
      "['Alice', '85', '90', '88']\n",
      "['Bob', '75', '80', '72']\n",
      "['Charlie', '95', '98', '97']\n"
     ]
    }
   ],
   "source": [
    "# reading csv file\n",
    "\n",
    "import csv\n",
    "\n",
    "with open('students.csv','r') as file:\n",
    "    reader = csv.reader(file)\n",
    "    for row in reader:\n",
    "        print(row)"
   ]
  },
  {
   "cell_type": "code",
   "execution_count": 2,
   "metadata": {},
   "outputs": [
    {
     "name": "stdout",
     "output_type": "stream",
     "text": [
      "{'Name': 'Alice', 'Math': '85', 'Science': '90', 'English': '88'}\n",
      "{'Name': 'Bob', 'Math': '75', 'Science': '80', 'English': '72'}\n",
      "{'Name': 'Charlie', 'Math': '95', 'Science': '98', 'English': '97'}\n"
     ]
    }
   ],
   "source": [
    "import csv\n",
    "\n",
    "with open('students.csv','r') as file:\n",
    "    reader = csv.DictReader(file)\n",
    "    for row in reader:\n",
    "        print(row)"
   ]
  },
  {
   "cell_type": "code",
   "execution_count": 3,
   "metadata": {},
   "outputs": [],
   "source": [
    "# writing to csv files\n",
    "\n",
    "import csv\n",
    "\n",
    "with open('new_students.csv','w') as file:\n",
    "    writer = csv.writer(file)\n",
    "    writer.writerow(['Name', 'Math', 'Science', 'English'])\n",
    "    writer.writerow(['Daisy', 88, 92, 85])"
   ]
  },
  {
   "cell_type": "code",
   "execution_count": 7,
   "metadata": {},
   "outputs": [],
   "source": [
    "import csv\n",
    "\n",
    "with open('new_students.csv', 'w', newline='') as file:\n",
    "  writer = csv.DictWriter(file, fieldnames=['Name', 'Math', 'Science', 'English'])\n",
    "  writer.writeheader()\n",
    "  writer.writerow({'Name': 'Eve', 'Math': 91, 'Science': 87, 'English': 90})"
   ]
  }
 ],
 "metadata": {
  "kernelspec": {
   "display_name": ".venv",
   "language": "python",
   "name": "python3"
  },
  "language_info": {
   "codemirror_mode": {
    "name": "ipython",
    "version": 3
   },
   "file_extension": ".py",
   "mimetype": "text/x-python",
   "name": "python",
   "nbconvert_exporter": "python",
   "pygments_lexer": "ipython3",
   "version": "3.12.7"
  }
 },
 "nbformat": 4,
 "nbformat_minor": 2
}
