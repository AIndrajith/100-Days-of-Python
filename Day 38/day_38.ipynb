{
 "cells": [
  {
   "cell_type": "code",
   "execution_count": null,
   "id": "62f2344f",
   "metadata": {},
   "outputs": [],
   "source": [
    "# Introduction to Flask Forms\n",
    "# Installing Flask-WTF\n",
    "# Creating Forms with Flask-WTF\n",
    "# Validating User Input"
   ]
  },
  {
   "cell_type": "code",
   "execution_count": null,
   "id": "fbee08ee",
   "metadata": {},
   "outputs": [],
   "source": [
    "# Introduction to Flask Forms\n",
    "\n",
    "# Forms allow user interaction with web applications.\n",
    "# Users can submit data through text fields, check boxesm radio buttons, and more.\n",
    "# Flask uses flask WTF which is built on WTF forms to simplify form handling and validations."
   ]
  },
  {
   "cell_type": "code",
   "execution_count": null,
   "id": "9f38a39b",
   "metadata": {},
   "outputs": [],
   "source": [
    "# What is flask WTF ?\n",
    "\n",
    "# flask WTF simplifies form creation, rendering and validation in flask.\n",
    "# It integrates WTF form with flask applicaitions.\n",
    "# It built in validations prevent invalid data submission.\n",
    "\n",
    "# install flask wtf\n",
    "# pip install flask-wtf\n",
    "\n",
    "# verify installation\n",
    "# pip show flask-wtf"
   ]
  },
  {
   "cell_type": "code",
   "execution_count": null,
   "id": "5d9106a4",
   "metadata": {},
   "outputs": [],
   "source": [
    "# Validating User Input\n",
    "\n",
    "# validators ensures only correct and expected data is accepted.\n",
    "\n",
    "# Also we have length which ensures input length.\n",
    "# we have number range which is used to validate the number range.\n",
    "\n",
    "# and also available equal to which compares two fields. \n"
   ]
  }
 ],
 "metadata": {
  "kernelspec": {
   "display_name": ".venv",
   "language": "python",
   "name": "python3"
  },
  "language_info": {
   "name": "python",
   "version": "3.12.7"
  }
 },
 "nbformat": 4,
 "nbformat_minor": 5
}
