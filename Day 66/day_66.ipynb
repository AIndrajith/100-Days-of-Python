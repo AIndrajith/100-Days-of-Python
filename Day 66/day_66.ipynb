{
 "cells": [
  {
   "cell_type": "code",
   "execution_count": null,
   "id": "8d105085",
   "metadata": {},
   "outputs": [],
   "source": [
    "# Flashcards learning app\n",
    "\n",
    "# Creating a Flashcard Data Structure\n",
    "# Adding and Reviewing Flashcards\n",
    "# Marking Cards as Learned\n",
    "# Implementing the CLI"
   ]
  },
  {
   "cell_type": "code",
   "execution_count": null,
   "id": "44fbb865",
   "metadata": {},
   "outputs": [],
   "source": [
    "# Creating a Flashcard Data Structure\n",
    "\n",
    "# for the flashcard structure, each flashcard contains first the\n",
    "# question the prompt for the user.\n",
    "# Second, the answer which is the correct answer.\n",
    "# And then we have a boolean called as learned indicating if the \n",
    "# card has been learned.\n"
   ]
  }
 ],
 "metadata": {
  "kernelspec": {
   "display_name": ".venv",
   "language": "python",
   "name": "python3"
  },
  "language_info": {
   "name": "python",
   "version": "3.12.7"
  }
 },
 "nbformat": 4,
 "nbformat_minor": 5
}
