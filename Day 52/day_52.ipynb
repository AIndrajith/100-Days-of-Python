{
 "cells": [
  {
   "cell_type": "code",
   "execution_count": null,
   "id": "9527a128",
   "metadata": {},
   "outputs": [],
   "source": [
    "# Identifying File Types and Categories\n",
    "\n",
    "# Moving Files into Folders\n",
    "\n",
    "# Automating File Organization\n",
    "\n",
    "# Adding Customizations options"
   ]
  }
 ],
 "metadata": {
  "kernelspec": {
   "display_name": ".venv",
   "language": "python",
   "name": "python3"
  },
  "language_info": {
   "name": "python",
   "version": "3.12.7"
  }
 },
 "nbformat": 4,
 "nbformat_minor": 5
}
