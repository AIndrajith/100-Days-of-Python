{
 "cells": [
  {
   "cell_type": "code",
   "execution_count": null,
   "id": "1d92c67d",
   "metadata": {},
   "outputs": [],
   "source": [
    "# Logging and Storing Expenses\n",
    "\n",
    "# Categorizing and Summarizing data\n",
    "\n",
    "# Visualizing Expenses with Graphs\n",
    "\n",
    "# Building a User-Friendly Interface"
   ]
  }
 ],
 "metadata": {
  "kernelspec": {
   "display_name": ".venv",
   "language": "python",
   "name": "python3"
  },
  "language_info": {
   "name": "python",
   "version": "3.12.7"
  }
 },
 "nbformat": 4,
 "nbformat_minor": 5
}
