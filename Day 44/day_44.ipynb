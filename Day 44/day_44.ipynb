{
 "cells": [
  {
   "cell_type": "code",
   "execution_count": null,
   "id": "ee4751f4",
   "metadata": {},
   "outputs": [],
   "source": [
    "# Introduction to Pandas \n",
    "\n",
    "# Loading and Inspecting Data\n",
    "\n",
    "# Data Cleaning Techniques\n",
    "\n",
    "# Transforming and Exporting Clean Data"
   ]
  },
  {
   "cell_type": "code",
   "execution_count": null,
   "id": "6c2a0860",
   "metadata": {},
   "outputs": [],
   "source": [
    "# Introduction to Pandas\n",
    "\n",
    "# What is Pandas?\n",
    "\n",
    "# Pandas is a Python library designed for data manipulation \n",
    "# and analysis.\n",
    "# It provides two main data structures.\n",
    "# First Series, which is a 1D labeled array like a column and \n",
    "# then it provides data Frame, which is 2D labeled table, like\n",
    "# a spreadsheet.\n",
    "\n",
    "# Installing pandas\n",
    "# pip install pandas"
   ]
  },
  {
   "cell_type": "code",
   "execution_count": null,
   "id": "2245ea63",
   "metadata": {},
   "outputs": [],
   "source": [
    "# Loading and Inspecting Data\n",
    "\n"
   ]
  }
 ],
 "metadata": {
  "kernelspec": {
   "display_name": ".venv",
   "language": "python",
   "name": "python3"
  },
  "language_info": {
   "name": "python",
   "version": "3.12.7"
  }
 },
 "nbformat": 4,
 "nbformat_minor": 5
}
