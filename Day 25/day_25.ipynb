{
 "cells": [
  {
   "cell_type": "code",
   "execution_count": null,
   "metadata": {},
   "outputs": [],
   "source": [
    "# Polymorphism\n",
    "# Method Overriding in Polymorphism\n",
    "# Using Polymorphism\n",
    "# Real-world Examples of Polymorphism"
   ]
  },
  {
   "cell_type": "code",
   "execution_count": 2,
   "metadata": {},
   "outputs": [
    {
     "name": "stdout",
     "output_type": "stream",
     "text": [
      "The dog barks\n",
      "The cat meows\n"
     ]
    }
   ],
   "source": [
    "# Polymorphism - allows objects of different classes to be treated as objects of a common superclass.\n",
    "# the term poly means many and morphism means forms.\n",
    "# This allows the same interface to behave differently based on the object.\n",
    "\n",
    "# Addvantages of Polymorphism :\n",
    "# it simplifies code readability and maintenance.\n",
    "# it enables flexibility and extensibility in the code, and it promotes code reusability.\n",
    "\n",
    "\n",
    "class Animal:\n",
    "  def make_sound(self):\n",
    "    print(\"The animal makes a sound\")\n",
    "\n",
    "class Dog(Animal):\n",
    "  def make_sound(self):\n",
    "    print(\"The dog barks\")\n",
    "\n",
    "class Cat(Animal):\n",
    "  def make_sound(self):\n",
    "    print(\"The cat meows\")\n",
    "\n",
    "# Polymorphism in action\n",
    "animals = [Dog(), Cat()]\n",
    "\n",
    "for animal in animals:\n",
    "  animal.make_sound()"
   ]
  },
  {
   "cell_type": "code",
   "execution_count": 3,
   "metadata": {},
   "outputs": [
    {
     "name": "stdout",
     "output_type": "stream",
     "text": [
      "Area of a Circle: pi*r*r\n",
      "Area of a Square: side*side\n"
     ]
    }
   ],
   "source": [
    "# Method Overriding in Polymorphism - this occurs when a child class redefines a method from its parent class.\n",
    "# this is the foundation of polymorphism in python.\n",
    "\n",
    "class Shape:\n",
    "  def area(self):\n",
    "    print(\"Calculating area...\")\n",
    "\n",
    "class Circle(Shape):\n",
    "  def area(self):\n",
    "    print(\"Area of a Circle: pi*r*r\")\n",
    "\n",
    "class Square(Shape):\n",
    "  def area(self):\n",
    "    print(\"Area of a Square: side*side\")\n",
    "\n",
    "# Polymorphism in action\n",
    "shapes = [Circle(), Square()]\n",
    "\n",
    "for shape in shapes:\n",
    "  shape.area()"
   ]
  },
  {
   "cell_type": "code",
   "execution_count": 4,
   "metadata": {},
   "outputs": [
    {
     "name": "stdout",
     "output_type": "stream",
     "text": [
      "Bird chirps!\n",
      "Duck quacks!\n"
     ]
    }
   ],
   "source": [
    "# Using Polymorphism in python\n",
    "# can be implement through two different types.\n",
    "# One is method overriding. Next is something called as duck typing using dynamic types in python.\n",
    "\n",
    "class Bird:\n",
    "  def make_sound(self):\n",
    "    print(\"Bird chirps!\")\n",
    "\n",
    "class Duck:\n",
    "  def make_sound(self):\n",
    "    print(\"Duck quacks!\")\n",
    "\n",
    "def animal_sound(animal):\n",
    "  animal.make_sound()\n",
    "\n",
    "# Polymorphism in function arguments\n",
    "bird = Bird()\n",
    "duck = Duck()\n",
    "\n",
    "animal_sound(bird)\n",
    "animal_sound(duck)"
   ]
  }
 ],
 "metadata": {
  "kernelspec": {
   "display_name": ".venv",
   "language": "python",
   "name": "python3"
  },
  "language_info": {
   "codemirror_mode": {
    "name": "ipython",
    "version": 3
   },
   "file_extension": ".py",
   "mimetype": "text/x-python",
   "name": "python",
   "nbconvert_exporter": "python",
   "pygments_lexer": "ipython3",
   "version": "3.12.7"
  }
 },
 "nbformat": 4,
 "nbformat_minor": 2
}
