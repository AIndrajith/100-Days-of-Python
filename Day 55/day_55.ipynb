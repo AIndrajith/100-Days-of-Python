{
 "cells": [
  {
   "cell_type": "code",
   "execution_count": null,
   "id": "825213d3",
   "metadata": {},
   "outputs": [],
   "source": [
    "# Music Playlist Organizer\n",
    "\n",
    "# File and Directory Management using Python's \"Os\" and \"shutil\" modules\n",
    "\n",
    "# Metadata Extraction using libraries like \"mutagen\"\n",
    "\n",
    "# Automating Organization based on extracted metadata\n",
    "\n",
    "# Exporting Summaries to JSON or CSV for analysis"
   ]
  },
  {
   "cell_type": "code",
   "execution_count": null,
   "id": "51854118",
   "metadata": {},
   "outputs": [],
   "source": [
    "# Step 1 : CREATE THE ENVIRONMENT\n",
    "    # pip install mutagen\n",
    "\n",
    "# Step 2 : Scanning the music derectory\n",
    "\n",
    "# Step 3 : Extract the meta data\n",
    "    # pip instal mutagen\n",
    "\n",
    "# Step 4: Organize the files into the folder"
   ]
  }
 ],
 "metadata": {
  "kernelspec": {
   "display_name": ".venv",
   "language": "python",
   "name": "python3"
  },
  "language_info": {
   "name": "python",
   "version": "3.12.7"
  }
 },
 "nbformat": 4,
 "nbformat_minor": 5
}
