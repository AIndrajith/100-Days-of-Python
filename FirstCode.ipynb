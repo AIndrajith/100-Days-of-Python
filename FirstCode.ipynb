{
  "nbformat": 4,
  "nbformat_minor": 0,
  "metadata": {
    "colab": {
      "provenance": [],
      "authorship_tag": "ABX9TyNFeI6I0ZhVJRLbN4tK0gvY",
      "include_colab_link": true
    },
    "kernelspec": {
      "name": "python3",
      "display_name": "Python 3"
    },
    "language_info": {
      "name": "python"
    }
  },
  "cells": [
    {
      "cell_type": "markdown",
      "metadata": {
        "id": "view-in-github",
        "colab_type": "text"
      },
      "source": [
        "<a href=\"https://colab.research.google.com/github/AIndrajith/100-Days-of-Python/blob/main/FirstCode.ipynb\" target=\"_parent\"><img src=\"https://colab.research.google.com/assets/colab-badge.svg\" alt=\"Open In Colab\"/></a>"
      ]
    },
    {
      "cell_type": "code",
      "execution_count": 1,
      "metadata": {
        "colab": {
          "base_uri": "https://localhost:8080/"
        },
        "id": "wnC40-sHbFtZ",
        "outputId": "7cfbe8c4-ff16-46d0-b88d-c37a6be65d2f"
      },
      "outputs": [
        {
          "output_type": "stream",
          "name": "stdout",
          "text": [
            "Hello Indrajith!\n"
          ]
        }
      ],
      "source": [
        "# In here all foundation codes are include\n",
        "print(\"Hello Indrajith!\")"
      ]
    },
    {
      "cell_type": "code",
      "source": [
        "# variables\n",
        "\n",
        "name = \"Indrajith\"  # string\n",
        "age = 15            # integer\n",
        "height = 5.9        # float\n",
        "is_gamer = False    # boolean\n",
        "\n",
        "print(\"Name :\",name)\n",
        "print(\"Age  :\",age)\n",
        "print(\"Height:\",height)\n",
        "print(\"Is Gamer:\",is_gamer)"
      ],
      "metadata": {
        "colab": {
          "base_uri": "https://localhost:8080/"
        },
        "id": "G_DzPqsmchSS",
        "outputId": "9e287492-83ca-42c4-ffc5-c02b6dc767a9"
      },
      "execution_count": 3,
      "outputs": [
        {
          "output_type": "stream",
          "name": "stdout",
          "text": [
            "Name : Indrajith\n",
            "Age  : 15\n",
            "Height: 5.9\n",
            "Is Gamer: False\n"
          ]
        }
      ]
    },
    {
      "cell_type": "code",
      "source": [
        "# user inputs\n",
        "user_name = input(\"Whats your name? \")\n",
        "print(\"Welcome, \"+ user_name + \"!\")"
      ],
      "metadata": {
        "colab": {
          "base_uri": "https://localhost:8080/"
        },
        "id": "mg0YV1t_djan",
        "outputId": "8b2a46e8-260c-4c89-cf2f-75024319d9c4"
      },
      "execution_count": 6,
      "outputs": [
        {
          "output_type": "stream",
          "name": "stdout",
          "text": [
            "Whats your name? Indrajith\n",
            "Welcome, Indrajith!\n"
          ]
        }
      ]
    },
    {
      "cell_type": "code",
      "source": [
        "# Mathematical\n",
        "x = 3\n",
        "y = 10\n",
        "\n",
        "print(x + y)\n",
        "print(x - y)\n",
        "print(x * y)\n",
        "print(y / x)\n",
        "print(y // x)\n"
      ],
      "metadata": {
        "colab": {
          "base_uri": "https://localhost:8080/"
        },
        "id": "GigQ0ZjtdQdM",
        "outputId": "c3c69694-eed1-4fbe-f54d-c42d5d9e250a"
      },
      "execution_count": 7,
      "outputs": [
        {
          "output_type": "stream",
          "name": "stdout",
          "text": [
            "13\n",
            "-7\n",
            "30\n",
            "3.3333333333333335\n",
            "3\n"
          ]
        }
      ]
    },
    {
      "cell_type": "code",
      "source": [
        "# Deciti(on\n",
        "\n",
        "age = int(input(\"Enter your age: \"))\n",
        "\n",
        "if age >= 18:\n",
        "  print(\"You are an adult.\")\n",
        "elif age >= 13:\n",
        "  print(\"You are a teenager\")\n",
        "else:\n",
        "  print(\"You are a minor.\")"
      ],
      "metadata": {
        "colab": {
          "base_uri": "https://localhost:8080/"
        },
        "id": "hWhWzQCKpwxC",
        "outputId": "97622465-ee81-494f-ec23-b800ba7e4b54"
      },
      "execution_count": 10,
      "outputs": [
        {
          "output_type": "stream",
          "name": "stdout",
          "text": [
            "Enter your age: 24\n",
            "You are an adult.\n"
          ]
        }
      ]
    },
    {
      "cell_type": "code",
      "source": [
        "# Loops\n",
        "# while\n",
        "\n",
        "count = 0\n",
        "while count < 5:\n",
        "  print(\"Count is: \",count)\n",
        "  count += 1"
      ],
      "metadata": {
        "colab": {
          "base_uri": "https://localhost:8080/"
        },
        "id": "aqqJQxTLqViR",
        "outputId": "f632b938-e9d6-40bf-add3-1ee167b8e447"
      },
      "execution_count": 11,
      "outputs": [
        {
          "output_type": "stream",
          "name": "stdout",
          "text": [
            "Count is:  0\n",
            "Count is:  1\n",
            "Count is:  2\n",
            "Count is:  3\n",
            "Count is:  4\n"
          ]
        }
      ]
    },
    {
      "cell_type": "code",
      "source": [
        "# for\n",
        "\n",
        "video_games = [\"Game 1\", \"Game 2\", \"Game 3\"]\n",
        "for game in video_games:\n",
        "  print(game)"
      ],
      "metadata": {
        "colab": {
          "base_uri": "https://localhost:8080/"
        },
        "id": "WY4t_-JBrHeA",
        "outputId": "74d85898-9233-41c8-dab9-f74626ee43a7"
      },
      "execution_count": 12,
      "outputs": [
        {
          "output_type": "stream",
          "name": "stdout",
          "text": [
            "Game 1\n",
            "Game 2\n",
            "Game 3\n"
          ]
        }
      ]
    },
    {
      "cell_type": "code",
      "source": [
        "# list\n",
        "\n",
        "video_games = [\"Game 1\", \"Game 2\", \"Game 3\"]\n",
        "\n",
        "print(video_games[0])\n",
        "\n",
        "video_games.append(\"Game 4\")\n",
        "\n",
        "video_games[1] = \"Game 8\"\n",
        "\n",
        "print(video_games)\n"
      ],
      "metadata": {
        "colab": {
          "base_uri": "https://localhost:8080/"
        },
        "id": "CqE0J_tars6W",
        "outputId": "9ccf7f2f-2993-4a28-a540-c9da4124c538"
      },
      "execution_count": 13,
      "outputs": [
        {
          "output_type": "stream",
          "name": "stdout",
          "text": [
            "Game 1\n",
            "['Game 1', 'Game 8', 'Game 3', 'Game 4']\n"
          ]
        }
      ]
    },
    {
      "cell_type": "code",
      "source": [
        "# functions\n",
        "\n",
        "def say_hello(person_name):\n",
        "  print(\"Hello, \" + person_name +\" from your very first function\")\n",
        "\n",
        "say_hello(\"Indrajith\")\n",
        "say_hello(\"Avishka\")\n",
        "\n",
        "def multiply(a, b):\n",
        "  return a * b\n",
        "\n",
        "result = multiply(3, 15)\n",
        "print(\"Result : \",result)\n"
      ],
      "metadata": {
        "colab": {
          "base_uri": "https://localhost:8080/"
        },
        "id": "34OaN2_gsWk5",
        "outputId": "6403d278-ce0b-43ce-b484-f78299f1fe8b"
      },
      "execution_count": 17,
      "outputs": [
        {
          "output_type": "stream",
          "name": "stdout",
          "text": [
            "Hello, Indrajith from your very first function\n",
            "Hello, Avishka from your very first function\n",
            "Result :  45\n"
          ]
        }
      ]
    },
    {
      "cell_type": "code",
      "source": [
        "# mini project\n",
        "\n",
        "import random\n",
        "\n",
        "secret_number = random.randint(1,10)\n",
        "attempts = 3\n",
        "\n",
        "print(\"I'm thinking of a number between 1 and 10\")\n",
        "\n",
        "while attempts > 0:\n",
        "  guess = int(input(\"Take a Guess: \"))\n",
        "  if guess == secret_number:\n",
        "    print(\"Congratulations! You guessed the number!\")\n",
        "    break\n",
        "  elif guess < secret_number:\n",
        "    print(\"Too low! Try again.\")\n",
        "  else:\n",
        "    print(\"Too high! Try again.\")\n",
        "  attempts -= 1\n",
        "\n",
        "if attempts == 0:\n",
        "  print(\"Sorry, you've run out of attempts, The secret number was: \",secret_number)"
      ],
      "metadata": {
        "colab": {
          "base_uri": "https://localhost:8080/"
        },
        "id": "6V2c99FhtCTp",
        "outputId": "21f6f381-43b0-465f-bafa-78c75a544c34"
      },
      "execution_count": 18,
      "outputs": [
        {
          "output_type": "stream",
          "name": "stdout",
          "text": [
            "I'm thinking of a number between 1 and 10\n",
            "Take a Guess: 5\n",
            "Too high! Try again.\n",
            "Take a Guess: 1\n",
            "Too low! Try again.\n",
            "Take a Guess: 3\n",
            "Too low! Try again.\n",
            "Sorry, you've run out of attempts, The secret number was:  4\n"
          ]
        }
      ]
    },
    {
      "cell_type": "code",
      "source": [],
      "metadata": {
        "id": "mlzXXWe0vQkY"
      },
      "execution_count": null,
      "outputs": []
    }
  ]
}