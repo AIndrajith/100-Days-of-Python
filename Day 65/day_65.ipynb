{
 "cells": [
  {
   "cell_type": "code",
   "execution_count": null,
   "id": "2d097eb5",
   "metadata": {},
   "outputs": [],
   "source": [
    "# Portfolio Website backend\n",
    "\n",
    "# Serving Static Files\n",
    "# Creating a Flask App\n",
    "# Handling User Feedback with Forms\n",
    "# Storing Feedback Locally"
   ]
  },
  {
   "cell_type": "code",
   "execution_count": null,
   "id": "9f23e8f7",
   "metadata": {},
   "outputs": [],
   "source": [
    "# What are static files?\n",
    "\n",
    "# Static files include something like HTML files CSS files JavaScript \n",
    "# files for the frontend.\n",
    "# They also have images and other media assets that you can think of \n",
    "# it as these are just static files that don't have much logic in \n",
    "# there, but just UI logic in there."
   ]
  }
 ],
 "metadata": {
  "kernelspec": {
   "display_name": ".venv",
   "language": "python",
   "name": "python3"
  },
  "language_info": {
   "name": "python",
   "version": "3.12.7"
  }
 },
 "nbformat": 4,
 "nbformat_minor": 5
}
