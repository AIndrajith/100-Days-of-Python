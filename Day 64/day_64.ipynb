{
 "cells": [
  {
   "cell_type": "code",
   "execution_count": null,
   "id": "c3ed6264",
   "metadata": {},
   "outputs": [],
   "source": [
    "# PDF Merger Tool\n",
    "\n",
    "# Creating a script that combines multiple PDF files into one \n",
    "# with the flexibility to specify the merge order.\n",
    "# This tool is practical for anyone managing documents or \n",
    "# creating customized PDF files."
   ]
  },
  {
   "cell_type": "code",
   "execution_count": null,
   "id": "69cf2f4d",
   "metadata": {},
   "outputs": [],
   "source": [
    "# Understanding PDF File Handling \n",
    "\n",
    "# Using Python for Merging PDFs\n",
    "\n",
    "# Adding File Order options\n",
    "\n",
    "# Implementing a User-Friendly CLI"
   ]
  },
  {
   "cell_type": "code",
   "execution_count": null,
   "id": "7f218da5",
   "metadata": {},
   "outputs": [],
   "source": [
    "# Understanding PDF File Handling \n",
    "\n",
    "# What is pypdf2 ?\n",
    "# It's a python library for handling PDF files.\n",
    "# pypdf2 and we'll be installing that in is true.\n",
    "# This helps merging PDFs, splitting PDFs, and also rotating pages."
   ]
  }
 ],
 "metadata": {
  "kernelspec": {
   "display_name": ".venv",
   "language": "python",
   "name": "python3"
  },
  "language_info": {
   "name": "python",
   "version": "3.12.7"
  }
 },
 "nbformat": 4,
 "nbformat_minor": 5
}
