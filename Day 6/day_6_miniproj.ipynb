{
 "cells": [
  {
   "cell_type": "code",
   "execution_count": 5,
   "metadata": {},
   "outputs": [
    {
     "name": "stdout",
     "output_type": "stream",
     "text": [
      "\n",
      "---Welcome to the Math Quiz Game! ---\n",
      "You will be presented with math problems, and you need to provid the correct answer.\n",
      "\n",
      "Question 1: 10 * 1\n"
     ]
    },
    {
     "ename": "ValueError",
     "evalue": "invalid literal for int() with base 10: ''",
     "output_type": "error",
     "traceback": [
      "\u001b[31m---------------------------------------------------------------------------\u001b[39m",
      "\u001b[31mValueError\u001b[39m                                Traceback (most recent call last)",
      "\u001b[36mCell\u001b[39m\u001b[36m \u001b[39m\u001b[32mIn[5]\u001b[39m\u001b[32m, line 52\u001b[39m\n\u001b[32m     49\u001b[39m         \u001b[38;5;28mprint\u001b[39m(\u001b[33m\"\u001b[39m\u001b[33mkeep Practicing! You can do better next time.\u001b[39m\u001b[33m\"\u001b[39m) \n\u001b[32m     51\u001b[39m \u001b[38;5;66;03m# Step 3: Run the game\u001b[39;00m\n\u001b[32m---> \u001b[39m\u001b[32m52\u001b[39m \u001b[43mmath_quiz\u001b[49m\u001b[43m(\u001b[49m\u001b[43m)\u001b[49m                      \n",
      "\u001b[36mCell\u001b[39m\u001b[36m \u001b[39m\u001b[32mIn[5]\u001b[39m\u001b[32m, line 31\u001b[39m, in \u001b[36mmath_quiz\u001b[39m\u001b[34m()\u001b[39m\n\u001b[32m     29\u001b[39m question, correct_answer = generate_question()\n\u001b[32m     30\u001b[39m \u001b[38;5;28mprint\u001b[39m(\u001b[33mf\u001b[39m\u001b[33m\"\u001b[39m\u001b[38;5;130;01m\\n\u001b[39;00m\u001b[33mQuestion \u001b[39m\u001b[38;5;132;01m{\u001b[39;00mi\u001b[38;5;250m \u001b[39m+\u001b[38;5;250m \u001b[39m\u001b[32m1\u001b[39m\u001b[38;5;132;01m}\u001b[39;00m\u001b[33m: \u001b[39m\u001b[38;5;132;01m{\u001b[39;00mquestion\u001b[38;5;132;01m}\u001b[39;00m\u001b[33m\"\u001b[39m)\n\u001b[32m---> \u001b[39m\u001b[32m31\u001b[39m user_answer = \u001b[38;5;28;43mint\u001b[39;49m\u001b[43m(\u001b[49m\u001b[38;5;28;43minput\u001b[39;49m\u001b[43m(\u001b[49m\u001b[33;43m\"\u001b[39;49m\u001b[33;43mYour answer: \u001b[39;49m\u001b[33;43m\"\u001b[39;49m\u001b[43m)\u001b[49m\u001b[43m)\u001b[49m\n\u001b[32m     32\u001b[39m \u001b[38;5;28;01mwhile\u001b[39;00m user_answer != \u001b[33m\"\u001b[39m\u001b[33m\"\u001b[39m:\n\u001b[32m     34\u001b[39m     \u001b[38;5;28;01mif\u001b[39;00m user_answer == correct_answer:\n",
      "\u001b[31mValueError\u001b[39m: invalid literal for int() with base 10: ''"
     ]
    }
   ],
   "source": [
    "# Basic Math Quiz Game\n",
    "\n",
    "import random\n",
    "\n",
    "# Step 1: Define the math question fumction\n",
    "def generate_question():\n",
    "    num1 = random.randint(1, 10)\n",
    "    num2 = random.randint(1, 10)\n",
    "    operator = random.choice(['+','-','*'])\n",
    "\n",
    "    if operator == '+':\n",
    "        answer = num1 + num2\n",
    "    elif operator == '-':\n",
    "        answer = num1 - num2\n",
    "    else: \n",
    "        answer = num1 * num2\n",
    "\n",
    "    return f\"{num1} {operator} {num2}\",answer\n",
    "\n",
    "# Step 2: Main Quiz Game function\n",
    "def math_quiz():\n",
    "    score = 0\n",
    "    rounds = 5\n",
    "\n",
    "    print(\"\\n---Welcome to the Math Quiz Game! ---\")\n",
    "    print(\"You will be presented with math problems, and you need to provid the correct answer.\")\n",
    "\n",
    "    for i in range(rounds):\n",
    "        question, correct_answer = generate_question()\n",
    "        print(f\"\\nQuestion {i + 1}: {question}\")\n",
    "        user_answer = int(input(\"Your answer: \"))\n",
    "        while user_answer != \"\":\n",
    "\n",
    "            if user_answer == correct_answer:\n",
    "                print(\"Correct!\")\n",
    "                score = 1\n",
    "            else:\n",
    "                print(f\"Wrong! The correct answer is : {correct_answer}\")\n",
    "        else:\n",
    "            print(\"Enter an any answer: \")         \n",
    "\n",
    "    print(\"\\n---Game Over!---\") \n",
    "    print(f\"Your final score is : {score}/{rounds}\")\n",
    "    if score == rounds:\n",
    "        print(\"Congratulations! You got al the questions correct.\") \n",
    "    elif score >= rounds // 2:\n",
    "        print(\"Good job! you did well.\") \n",
    "    else:\n",
    "        print(\"keep Practicing! You can do better next time.\") \n",
    "\n",
    "# Step 3: Run the game\n",
    "math_quiz()                      \n",
    "            "
   ]
  }
 ],
 "metadata": {
  "kernelspec": {
   "display_name": ".venv",
   "language": "python",
   "name": "python3"
  },
  "language_info": {
   "codemirror_mode": {
    "name": "ipython",
    "version": 3
   },
   "file_extension": ".py",
   "mimetype": "text/x-python",
   "name": "python",
   "nbconvert_exporter": "python",
   "pygments_lexer": "ipython3",
   "version": "3.12.7"
  }
 },
 "nbformat": 4,
 "nbformat_minor": 2
}
