{
 "cells": [
  {
   "cell_type": "code",
   "execution_count": null,
   "id": "165e4f36",
   "metadata": {},
   "outputs": [],
   "source": [
    "# What is Tkinter \n",
    "# creating a Basic Tkinter Window\n",
    "# Adding Widgets (Lables, Buttons, Entry Fields)\n",
    "# Handling User Events"
   ]
  },
  {
   "cell_type": "code",
   "execution_count": null,
   "id": "dff7f10d",
   "metadata": {},
   "outputs": [],
   "source": [
    "# Tkinter is Python standard library for bulding desktop Applications.\n",
    "# It is easy to use, lightweight and highly customizable"
   ]
  }
 ],
 "metadata": {
  "kernelspec": {
   "display_name": ".venv",
   "language": "python",
   "name": "python3"
  },
  "language_info": {
   "name": "python",
   "version": "3.12.7"
  }
 },
 "nbformat": 4,
 "nbformat_minor": 5
}
