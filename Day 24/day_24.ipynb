{
 "cells": [
  {
   "cell_type": "code",
   "execution_count": null,
   "metadata": {},
   "outputs": [],
   "source": [
    "# what is Inheritence \n",
    "# Types of Inheritence\n",
    "# Using the super() function \n",
    "# Method Overriding\n"
   ]
  },
  {
   "cell_type": "code",
   "execution_count": 1,
   "metadata": {},
   "outputs": [
    {
     "name": "stdout",
     "output_type": "stream",
     "text": [
      "Animal makes a sound.\n"
     ]
    }
   ],
   "source": [
    "# Inheritance allows a class to inherit properties and methods from another class.\n",
    "# It promotes something called as code reusability and reduse redundancy.\n",
    "# key terms in inheritance include one is Parent class, which is also called the base class.\n",
    "# That's the class whose properties and methods are inherited.\n",
    "# Another one is child class, which is also called sometimes as derived class\n",
    "# That's the class that inherits from the parent class\n",
    "\n",
    "\n",
    "# example for basic inheritance\n",
    "# Parent class\n",
    "class Animal:\n",
    "    def sound(self):\n",
    "        print(\"Animal makes a sound.\")\n",
    "\n",
    "# child class\n",
    "class Dog(Animal):\n",
    "    def barks(self):\n",
    "        print(\"Dog barks.\")\n",
    "\n",
    "# child class \n",
    "class Cat(Animal):\n",
    "    def sound(self):\n",
    "        print(\"Cat meows\")\n",
    "\n",
    "dog = Dog()\n",
    "dog.sound()                        "
   ]
  },
  {
   "cell_type": "code",
   "execution_count": 2,
   "metadata": {},
   "outputs": [
    {
     "name": "stdout",
     "output_type": "stream",
     "text": [
      "I am a Parent Class\n"
     ]
    }
   ],
   "source": [
    "# Types of inheritance\n",
    "\n",
    "# First single inheritance - where one child inherits from one parent\n",
    "class Parent:\n",
    "    def display(self):\n",
    "        print(\"I am a Parent Class\")\n",
    "\n",
    "class Child(Parent):\n",
    "    pass\n",
    "\n",
    "child = Child()\n",
    "child.display()"
   ]
  },
  {
   "cell_type": "code",
   "execution_count": 3,
   "metadata": {},
   "outputs": [
    {
     "name": "stdout",
     "output_type": "stream",
     "text": [
      "I am method A\n",
      "I am method B\n"
     ]
    }
   ],
   "source": [
    "# Second Multiple Inheritance - where we can have two parents \n",
    "class A:\n",
    "    def method_a(self):\n",
    "        print(\"I am method A\")\n",
    "\n",
    "class B:\n",
    "    def method_b(self):\n",
    "        print(\"I am method B\")\n",
    "\n",
    "class C(A,B):\n",
    "    pass\n",
    "\n",
    "obj = C()\n",
    "obj.method_a()\n",
    "obj.method_b()"
   ]
  },
  {
   "cell_type": "code",
   "execution_count": 4,
   "metadata": {},
   "outputs": [
    {
     "name": "stdout",
     "output_type": "stream",
     "text": [
      "I am a Grand Parent Class\n"
     ]
    }
   ],
   "source": [
    "# Third Multi-Level Inheritance - it can have a grandparent and then parent and a child\n",
    "class GrandParent:\n",
    "    def display(self):\n",
    "        print(\"I am a Grand Parent Class\")\n",
    "\n",
    "class Parent(GrandParent):\n",
    "    pass\n",
    "\n",
    "class Child(Parent):\n",
    "    pass\n",
    "\n",
    "child = Child()\n",
    "child.display()"
   ]
  },
  {
   "cell_type": "code",
   "execution_count": 6,
   "metadata": {},
   "outputs": [
    {
     "name": "stdout",
     "output_type": "stream",
     "text": [
      "Animal Created\n",
      "Dog Created\n"
     ]
    }
   ],
   "source": [
    "# Using super() function - allows you to call methods from the parent class.\n",
    "class Animal:\n",
    "    def __init__(self):\n",
    "        print(\"Animal Created\")\n",
    "\n",
    "class Dog(Animal):\n",
    "    def __init__(self):\n",
    "        super().__init__()\n",
    "        print(\"Dog Created\")  \n",
    "\n",
    "dog = Dog()              "
   ]
  },
  {
   "cell_type": "code",
   "execution_count": 9,
   "metadata": {},
   "outputs": [
    {
     "name": "stdout",
     "output_type": "stream",
     "text": [
      "Fuel type: Electric\n"
     ]
    }
   ],
   "source": [
    "# Method overrideing - Overriding a child class can override methods from he parent class to provide specific behavior\n",
    "class Vehicle:\n",
    "    def fuel_type(self):\n",
    "        print(\"Fuel type: Petrol/Diesel\")\n",
    "\n",
    "class ElectricalCar(Vehicle):  \n",
    "    def fuel_type(self):\n",
    "        print(\"Fuel type: Electric\")\n",
    "\n",
    "car = ElectricalCar()\n",
    "car.fuel_type()"
   ]
  }
 ],
 "metadata": {
  "kernelspec": {
   "display_name": ".venv",
   "language": "python",
   "name": "python3"
  },
  "language_info": {
   "codemirror_mode": {
    "name": "ipython",
    "version": 3
   },
   "file_extension": ".py",
   "mimetype": "text/x-python",
   "name": "python",
   "nbconvert_exporter": "python",
   "pygments_lexer": "ipython3",
   "version": "3.12.7"
  }
 },
 "nbformat": 4,
 "nbformat_minor": 2
}
