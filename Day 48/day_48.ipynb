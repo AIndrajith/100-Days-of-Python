{
 "cells": [
  {
   "cell_type": "code",
   "execution_count": null,
   "id": "7a7bb2de",
   "metadata": {},
   "outputs": [],
   "source": [
    "# Understanding Web Scraping Basics\n",
    "\n",
    "# Using requests and BeautifulSoup for Scraping\n",
    "\n",
    "# Extracting Stock Prices from a Website\n",
    "\n",
    "# Adding Dynamic Updates for Real-Time Tracking"
   ]
  },
  {
   "cell_type": "code",
   "execution_count": null,
   "id": "71033648",
   "metadata": {},
   "outputs": [],
   "source": [
    "# Understanding Web Scraping Basics\n",
    "\n",
    "# What is web Scraping?\n",
    "# the process of extracting data from websites.\n",
    "# For this project, you'll scrape stock price data from a finance \n",
    "# website, which is Yahoo Finance.\n",
    "# Ethical Scraping ensures you comply with the website's terms \n",
    "# of services use scraping responsibly by adding delays between the\n",
    "# request or you're more like attacking their website if you constantly \n",
    "# call the URL and get the data.\n",
    "\n",
    "# installing required libraries \n",
    "# which is beautifulsoup\n",
    "# pip install requests beautifulsoup4"
   ]
  }
 ],
 "metadata": {
  "kernelspec": {
   "display_name": ".venv",
   "language": "python",
   "name": "python3"
  },
  "language_info": {
   "codemirror_mode": {
    "name": "ipython",
    "version": 3
   },
   "file_extension": ".py",
   "mimetype": "text/x-python",
   "name": "python",
   "nbconvert_exporter": "python",
   "pygments_lexer": "ipython3",
   "version": "3.12.7"
  }
 },
 "nbformat": 4,
 "nbformat_minor": 5
}
