{
 "cells": [
  {
   "cell_type": "code",
   "execution_count": null,
   "metadata": {},
   "outputs": [],
   "source": [
    "# API - Application Programming Interface\n",
    "# How API works\n",
    "# Using API keys\n",
    "# Fetching Data from APIs using requests"
   ]
  },
  {
   "cell_type": "code",
   "execution_count": null,
   "metadata": {},
   "outputs": [],
   "source": [
    "# API is a set of rules and tools that allow different software applications to communicate with each other.\n",
    "# API enables developers tomfetch data, send data, and interact with external services.\n",
    "\n",
    "# How APIs work.\n",
    "# We send a request to an API endpoint.\n",
    "# The API processes our request.\n",
    "# The API sends back a response often in JSON format containing the requested data.\n",
    "\n",
    "# pip install requests\n",
    "import requests\n",
    "\n",
    "API_KEY = \"da513525dc95d836a8c654fb317bd28b\"\n",
    "city = \"London\"\n",
    "url = f\"https://api.openweathermap.org/data/2.5/weather?q={city}&appid={API_KEY}\"\n",
    "\n",
    "response = requests.get(url)\n",
    "\n",
    "if response.status_code == 200:\n",
    "  weather_data = response.json()\n",
    "  print(weather_data)\n",
    "else:\n",
    "    print(\"An error occurred. Status Code: \", response.status_code)"
   ]
  }
 ],
 "metadata": {
  "kernelspec": {
   "display_name": ".venv",
   "language": "python",
   "name": "python3"
  },
  "language_info": {
   "name": "python",
   "version": "3.12.7"
  }
 },
 "nbformat": 4,
 "nbformat_minor": 2
}
