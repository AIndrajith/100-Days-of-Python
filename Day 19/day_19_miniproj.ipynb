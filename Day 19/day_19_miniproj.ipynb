{
 "cells": [
  {
   "cell_type": "code",
   "execution_count": 1,
   "metadata": {},
   "outputs": [
    {
     "ename": "ModuleNotFoundError",
     "evalue": "No module named 'requests'",
     "output_type": "error",
     "traceback": [
      "\u001b[31m---------------------------------------------------------------------------\u001b[39m",
      "\u001b[31mModuleNotFoundError\u001b[39m                       Traceback (most recent call last)",
      "\u001b[36mCell\u001b[39m\u001b[36m \u001b[39m\u001b[32mIn[1]\u001b[39m\u001b[32m, line 2\u001b[39m\n\u001b[32m      1\u001b[39m \u001b[38;5;66;03m# Weather App using OpenWeatherMap API\u001b[39;00m\n\u001b[32m----> \u001b[39m\u001b[32m2\u001b[39m \u001b[38;5;28;01mimport\u001b[39;00m\u001b[38;5;250m \u001b[39m\u001b[34;01mrequests\u001b[39;00m\n\u001b[32m      4\u001b[39m \u001b[38;5;66;03m#Step 1: API SETUP\u001b[39;00m\n\u001b[32m      5\u001b[39m API_KEY = \u001b[33m\"\u001b[39m\u001b[33mda513525dc95d836a8c654fb317bd28b\u001b[39m\u001b[33m\"\u001b[39m\n",
      "\u001b[31mModuleNotFoundError\u001b[39m: No module named 'requests'"
     ]
    }
   ],
   "source": [
    "# Weather App using OpenWeatherMap API\n",
    "import requests\n",
    "\n",
    "#Step 1: API SETUP\n",
    "API_KEY = \"da513525dc95d836a8c654fb317bd28b\"\n",
    "BASE_URL = \"https://api.openweathermap.org/data/2.5/weather\"\n",
    "\n",
    "# Step 2: Get Weather Data\n",
    "def get_weather(city):\n",
    "  try:\n",
    "    url = f\"{BASE_URL}?q={city}&appid={API_KEY}&units=metric\"\n",
    "    response = requests.get(url)\n",
    "    if response.status_code == 200:\n",
    "      data = response.json()\n",
    "      weather = {\n",
    "          \"City\": data[\"name\"],\n",
    "          \"Temperature\": f\"{data['main']['temp']}C\",\n",
    "          \"Weather\": data[\"weather\"][0]['description'].title(),\n",
    "          \"Humidity\": f\"{data['main']['humidity']}%\",\n",
    "          \"Wind Speed\": f\"{data['wind']['speed']}m/s\"\n",
    "      }\n",
    "      return weather\n",
    "    elif response.status_code == 404:\n",
    "      print(\"City not found.\")\n",
    "    else:\n",
    "      print(\"An error occurred. Status Code: \", response.status_code)\n",
    "  except Exception as e:\n",
    "    print(\"An error occurred: \", e)\n",
    "  return None\n",
    "\n",
    "# Step 3: Display Weather Information\n",
    "def display_weather(weather):\n",
    "  print(\"\\n--- Weather Information ---\")\n",
    "  for key,value in weather.items():\n",
    "    print(f\"{key}: {value}\")\n",
    "\n",
    "# Step 4: Main Program Loop\n",
    "while True:\n",
    "  print(\"\\n--- Weather App ---\")\n",
    "  city = input(\"Enter a city name (or 'q' to quit): \").strip()\n",
    "  if city.lower() == 'q':\n",
    "    break\n",
    "  weather = get_weather(city)\n",
    "  if weather:\n",
    "    display_weather(weather)"
   ]
  }
 ],
 "metadata": {
  "kernelspec": {
   "display_name": ".venv",
   "language": "python",
   "name": "python3"
  },
  "language_info": {
   "codemirror_mode": {
    "name": "ipython",
    "version": 3
   },
   "file_extension": ".py",
   "mimetype": "text/x-python",
   "name": "python",
   "nbconvert_exporter": "python",
   "pygments_lexer": "ipython3",
   "version": "3.12.7"
  }
 },
 "nbformat": 4,
 "nbformat_minor": 2
}
