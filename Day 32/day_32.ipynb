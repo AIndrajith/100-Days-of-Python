{
 "cells": [
  {
   "cell_type": "code",
   "execution_count": null,
   "id": "633ad602",
   "metadata": {},
   "outputs": [],
   "source": [
    "# What is Canvas Widget?\n",
    "# Drawing Shapes and Lines \n",
    "# Handling Mouse Events on Canvas\n",
    "# Clearing and Resetting the Canvas"
   ]
  },
  {
   "cell_type": "code",
   "execution_count": null,
   "id": "c8d334f0",
   "metadata": {},
   "outputs": [],
   "source": [
    "# The Canvas widget is used for drawing shapes, images and freehand drawings.\n",
    "# it supports lines, circles, rectangles, text and more.\n",
    "# it allows mouse interaction, example click drag for dynamic input\n"
   ]
  }
 ],
 "metadata": {
  "kernelspec": {
   "display_name": ".venv",
   "language": "python",
   "name": "python3"
  },
  "language_info": {
   "name": "python",
   "version": "3.12.7"
  }
 },
 "nbformat": 4,
 "nbformat_minor": 5
}
