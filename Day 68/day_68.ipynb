{
 "cells": [
  {
   "cell_type": "code",
   "execution_count": null,
   "id": "ef52f994",
   "metadata": {},
   "outputs": [],
   "source": [
    "# Task schedular\n",
    "\n",
    "# Setting up task data management\n",
    "# creating an interactive GUI with Tkinter\n",
    "# Adding Reminder and Completion Features\n",
    "# Adding save and Delete Features"
   ]
  },
  {
   "cell_type": "code",
   "execution_count": null,
   "id": "c1897885",
   "metadata": {},
   "outputs": [],
   "source": [
    "# Setting up task data management\n",
    "\n",
    "# What is the tast structure that we'll be using.\n",
    "# Now each task will include a title which is the task description.\n",
    "# We'll have the due date when the task is due.\n",
    "# And then we'll have a boolean completed indicating completion\n",
    "# status.\n",
    "# The task will be stored in this particular case in a JSON file for \n",
    "# persistence."
   ]
  }
 ],
 "metadata": {
  "kernelspec": {
   "display_name": ".venv",
   "language": "python",
   "name": "python3"
  },
  "language_info": {
   "name": "python",
   "version": "3.12.7"
  }
 },
 "nbformat": 4,
 "nbformat_minor": 5
}
