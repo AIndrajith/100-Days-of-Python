{
 "cells": [
  {
   "cell_type": "code",
   "execution_count": null,
   "metadata": {},
   "outputs": [],
   "source": [
    "# What is Encapsulation\n",
    "# Public, Protected and Private Attributes\n",
    "# Getter and Setter Methods\n",
    "# Validating User Data\n"
   ]
  },
  {
   "cell_type": "code",
   "execution_count": 3,
   "metadata": {},
   "outputs": [
    {
     "name": "stdout",
     "output_type": "stream",
     "text": [
      "Indrajith_Deegalla\n",
      "****\n",
      "password updated successfully!\n"
     ]
    }
   ],
   "source": [
    "# Encapsulation is the practice of restricting direct access to an object's data and allowing controlled access through methods\n",
    "# It protects sensitive data from unintended changes \n",
    "# it ensures data intergrity and validation and also promotes modularity and security.\n",
    "\n",
    "\n",
    "class User:\n",
    "    def __init__(self, username, password):\n",
    "        self.username = username\n",
    "        self.__password = password   #  __ (double underscores) means private\n",
    "\n",
    "    def get_password(self):\n",
    "        return \"****\" \n",
    "\n",
    "    def set_password(self, new_password):\n",
    "        if len(new_password) >= 8:\n",
    "            self.__password = new_password\n",
    "            print(\"password updated successfully!\")\n",
    "        else:\n",
    "            print(\"Password must be at least 8 characters.\")\n",
    "\n",
    "user = User(\"Indrajith_Deegalla\",\"Secure123\")\n",
    "print(user.username)\n",
    "print(user.get_password())\n",
    "user.set_password(\"NewPassword\")                       "
   ]
  },
  {
   "cell_type": "code",
   "execution_count": null,
   "metadata": {},
   "outputs": [
    {
     "name": "stdout",
     "output_type": "stream",
     "text": [
      "Username: Alice\n",
      "Email: alice@example.come\n",
      "Password: pass1234\n"
     ]
    }
   ],
   "source": [
    "# Public, Protected and Private Attributes\n",
    "# Public is in our case that we had here is kike self dot username can be accessible anywhere.\n",
    "# there is also something called as protected which is with one underscore.\n",
    "# There has two underscore in above. These are private which is in accessible only within the class.\n",
    "# But if we put one underscore that makes it protected which is accessible only within subclass, \n",
    "# so the parent can access it.\n",
    "\n",
    "class UserProfile:\n",
    "    def __init__(self, username, email, password):\n",
    "        self.username = username\n",
    "        self._email = email          # protected\n",
    "        self.__password = password   # Private\n",
    "\n",
    "    def show_profile(self):\n",
    "        print(f\"Username: {self.username}\")\n",
    "        print(f\"Email: {self._email}\")\n",
    "        print(f\"Password: {self.__password}\")\n",
    "\n",
    "user = UserProfile(\"Alice\", \"alice@example.come\",\"pass1234\") \n",
    "user.show_profile()       "
   ]
  },
  {
   "cell_type": "code",
   "execution_count": 4,
   "metadata": {},
   "outputs": [
    {
     "name": "stdout",
     "output_type": "stream",
     "text": [
      "1000\n",
      "Balance updated successfully\n",
      "1500\n"
     ]
    }
   ],
   "source": [
    "# Getter and Setter Methods\n",
    "\n",
    "# these allows to controlled access to private attributes.\n",
    "# so that's how you can make sure that from outside you can access them using these methods \n",
    "\n",
    "class Account:\n",
    "    def __init__(self, balance):\n",
    "        self.__balance = balance\n",
    "\n",
    "    def get_balance(self):\n",
    "        return self.__balance\n",
    "\n",
    "    def set_balance(self, new_balance):\n",
    "        if new_balance >= 0:\n",
    "            self.__balance = new_balance\n",
    "            print(\"Balance updated successfully\")\n",
    "        else:\n",
    "            print(\"Invalid balance value\")\n",
    "\n",
    "account = Account(1000) \n",
    "print(account.get_balance())\n",
    "account.set_balance(1500)               \n",
    "print(account.get_balance())\n",
    "        "
   ]
  },
  {
   "cell_type": "code",
   "execution_count": 5,
   "metadata": {},
   "outputs": [
    {
     "name": "stdout",
     "output_type": "stream",
     "text": [
      "Password set successfully\n",
      "password123\n"
     ]
    }
   ],
   "source": [
    "# Validating userdata\n",
    "# Encapsulation helps enforce validation rules for private attributes\n",
    "\n",
    "class User:\n",
    "  def __init__(self, username):\n",
    "    self.__username = username\n",
    "    self.__password = None\n",
    "\n",
    "  def set_password(self, password):\n",
    "    if len(password) < 6:\n",
    "      print(\"Password must be at least 6 characters long\")\n",
    "    else:\n",
    "      self.__password = password\n",
    "      print(\"Password set successfully\")\n",
    "\n",
    "\n",
    "  def get_password(self):\n",
    "    return self.__password\n",
    "\n",
    "user = User(\"Alice\")\n",
    "user.set_password(\"password123\")\n",
    "print(user.get_password())"
   ]
  }
 ],
 "metadata": {
  "kernelspec": {
   "display_name": ".venv",
   "language": "python",
   "name": "python3"
  },
  "language_info": {
   "codemirror_mode": {
    "name": "ipython",
    "version": 3
   },
   "file_extension": ".py",
   "mimetype": "text/x-python",
   "name": "python",
   "nbconvert_exporter": "python",
   "pygments_lexer": "ipython3",
   "version": "3.12.7"
  }
 },
 "nbformat": 4,
 "nbformat_minor": 2
}
