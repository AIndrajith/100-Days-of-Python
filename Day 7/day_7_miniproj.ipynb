{
 "cells": [
  {
   "cell_type": "code",
   "execution_count": null,
   "metadata": {},
   "outputs": [
    {
     "ename": "SyntaxError",
     "evalue": "invalid syntax (4000113000.py, line 27)",
     "output_type": "error",
     "traceback": [
      "  \u001b[36mCell\u001b[39m\u001b[36m \u001b[39m\u001b[32mIn[1]\u001b[39m\u001b[32m, line 27\u001b[39m\n\u001b[31m    \u001b[39m\u001b[31melif choice ==\u001b[39m\n                                       ^\n\u001b[31mSyntaxError\u001b[39m\u001b[31m:\u001b[39m invalid syntax\n"
     ]
    }
   ],
   "source": [
    "# Shopping list app\n",
    "\n",
    "# Step 1: Initialize an empty shopping list\n",
    "shopping_list=[]\n",
    "\n",
    "# Step 2: Define main menu\n",
    "def show_menu():\n",
    "    print(\"\\n---shopping list menu---\")\n",
    "    print(\"1.View the shopping list\")\n",
    "    print(\"2.Add an item\")\n",
    "    print(\"3.Remove an item\")\n",
    "    print(\"4.Clear List\")\n",
    "    print(\"5.Exit\")\n",
    "\n",
    "# Step 3: Main Program Loop\n",
    "while True:\n",
    "    show_menu()\n",
    "    choice = input(\"Enter your choice(1-5): \")\n",
    "\n",
    "    if choice == \"1\":\n",
    "        print(\"\\n---Shopping list----\")\n",
    "        if not shopping_list:\n",
    "            print(\"Your Shopping list is empty.\")\n",
    "        else:\n",
    "            for index, item in enumerate(shopping_list):\n",
    "                print(f\"{index+1}. {item}\")\n",
    "    \n",
    "    elif choice == \"2\":\n",
    "        item = input(\"Enter the item to add : \")\n",
    "        if item in shopping_list:\n",
    "            print(\"This item is already in the shopping list\")\n",
    "        else:\n",
    "            shopping_list.append(item)\n",
    "            print(f\"{item} has been added to the shopping list.\") \n",
    "    \n",
    "    elif choice == \"3\":\n",
    "        item = input(\"Enter the item to remove: \")\n",
    "        if item in shopping_list:\n",
    "            shopping_list.remove(item)\n",
    "            print(f\"{item} has been removed from the shopping list.\")\n",
    "        else:\n",
    "            print(f\"{item} is not in the shopping list.\")\n",
    "\n",
    "    elif choice == \"4\":\n",
    "        shopping_list.clear()\n",
    "        print(\"The shopping list has been cleared.\") \n",
    "\n",
    "    elif choice == \"5\":\n",
    "        print(\"Existing the program. Goodbye!\")\n",
    "        break\n"
   ]
  },
  {
   "cell_type": "code",
   "execution_count": null,
   "metadata": {},
   "outputs": [],
   "source": []
  }
 ],
 "metadata": {
  "kernelspec": {
   "display_name": ".venv",
   "language": "python",
   "name": "python3"
  },
  "language_info": {
   "codemirror_mode": {
    "name": "ipython",
    "version": 3
   },
   "file_extension": ".py",
   "mimetype": "text/x-python",
   "name": "python",
   "nbconvert_exporter": "python",
   "pygments_lexer": "ipython3",
   "version": "3.12.7"
  }
 },
 "nbformat": 4,
 "nbformat_minor": 2
}
