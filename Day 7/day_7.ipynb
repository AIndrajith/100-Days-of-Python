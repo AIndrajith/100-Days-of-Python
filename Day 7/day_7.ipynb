{
 "cells": [
  {
   "cell_type": "code",
   "execution_count": null,
   "metadata": {},
   "outputs": [],
   "source": [
    "# Lists\n",
    "# List Operations adding , Removing, and accessing\n",
    "# List Methods"
   ]
  },
  {
   "cell_type": "code",
   "execution_count": 1,
   "metadata": {},
   "outputs": [
    {
     "name": "stdout",
     "output_type": "stream",
     "text": [
      "['Milk', 'Eggs', 'Bread']\n"
     ]
    }
   ],
   "source": [
    "# Lists are muttable\n",
    "\n",
    "shopping_list = [\"Milk\", \"Eggs\", \"Bread\"]\n",
    "print(shopping_list)"
   ]
  },
  {
   "cell_type": "code",
   "execution_count": 2,
   "metadata": {},
   "outputs": [
    {
     "name": "stdout",
     "output_type": "stream",
     "text": [
      "Milk\n"
     ]
    }
   ],
   "source": [
    "# Accesing List items\n",
    "\n",
    "shopping_list = [\"Milk\", \"Eggs\", \"Bread\"]\n",
    "print(shopping_list[0])"
   ]
  },
  {
   "cell_type": "code",
   "execution_count": 3,
   "metadata": {},
   "outputs": [
    {
     "name": "stdout",
     "output_type": "stream",
     "text": [
      "['Milk', 'Eggs', 'Bread']\n",
      "['Milk', 'Juice', 'Eggs', 'Bread', 'Butter']\n"
     ]
    }
   ],
   "source": [
    "# Adding items to list\n",
    "\n",
    "shopping_list = [\"Milk\", \"Eggs\", \"Bread\"]\n",
    "print(shopping_list)\n",
    "\n",
    "shopping_list.append(\"Butter\")\n",
    "shopping_list.insert(1,\"Juice\")\n",
    "\n",
    "print(shopping_list)"
   ]
  },
  {
   "cell_type": "code",
   "execution_count": 6,
   "metadata": {},
   "outputs": [
    {
     "name": "stdout",
     "output_type": "stream",
     "text": [
      "['Milk', 'Eggs', 'Bread', 'Juice']\n",
      "['Milk', 'Eggs', 'Bread']\n",
      "['Milk', 'Bread']\n"
     ]
    }
   ],
   "source": [
    "# Removing Items from list\n",
    "\n",
    "shopping_list = [\"Milk\", \"Eggs\", \"Bread\",\"Juice\"]\n",
    "print(shopping_list)\n",
    "\n",
    "shopping_list.pop() # if nothing in paranthesis it will remove last item in list\n",
    "print(shopping_list)\n",
    "\n",
    "shopping_list.pop(1)\n",
    "print(shopping_list)"
   ]
  },
  {
   "cell_type": "code",
   "execution_count": 11,
   "metadata": {},
   "outputs": [
    {
     "name": "stdout",
     "output_type": "stream",
     "text": [
      "['Milk', 'Eggs', 'Bread', 'Juice', 'Butter']\n",
      "-Milk\n",
      "-Eggs\n",
      "-Bread\n",
      "-Juice\n",
      "-Butter\n",
      "1.Milk\n",
      "2.Eggs\n",
      "3.Bread\n",
      "4.Juice\n",
      "5.Butter\n"
     ]
    }
   ],
   "source": [
    "# Looping through lists\n",
    "\n",
    "shopping_list = [\"Milk\", \"Eggs\", \"Bread\",\"Juice\",\"Butter\"]\n",
    "print(shopping_list)\n",
    "\n",
    "for item in shopping_list:\n",
    "    print(f\"-{item}\")\n",
    "\n",
    "for index, item in enumerate(shopping_list):\n",
    "    print(f\"{index + 1}.{item}\")    "
   ]
  },
  {
   "cell_type": "code",
   "execution_count": 13,
   "metadata": {},
   "outputs": [
    {
     "name": "stdout",
     "output_type": "stream",
     "text": [
      "['Milk', 'Eggs', 'Bread', 'Juice', 'Butter']\n",
      "['Bread', 'Butter', 'Eggs', 'Juice', 'Milk']\n",
      "['Milk', 'Juice', 'Eggs', 'Butter', 'Bread']\n",
      "[]\n"
     ]
    }
   ],
   "source": [
    "# list methods\n",
    "\n",
    "shopping_list = [\"Milk\", \"Eggs\", \"Bread\",\"Juice\",\"Butter\"]\n",
    "print(shopping_list)\n",
    "\n",
    "shopping_list.sort()\n",
    "print(shopping_list)\n",
    "\n",
    "shopping_list.reverse()\n",
    "print(shopping_list)\n",
    "\n",
    "shopping_list.clear()\n",
    "print(shopping_list)"
   ]
  }
 ],
 "metadata": {
  "kernelspec": {
   "display_name": ".venv",
   "language": "python",
   "name": "python3"
  },
  "language_info": {
   "codemirror_mode": {
    "name": "ipython",
    "version": 3
   },
   "file_extension": ".py",
   "mimetype": "text/x-python",
   "name": "python",
   "nbconvert_exporter": "python",
   "pygments_lexer": "ipython3",
   "version": "3.12.7"
  }
 },
 "nbformat": 4,
 "nbformat_minor": 2
}
