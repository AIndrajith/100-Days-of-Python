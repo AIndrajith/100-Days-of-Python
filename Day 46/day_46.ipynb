{
 "cells": [
  {
   "cell_type": "code",
   "execution_count": null,
   "id": "562f40c0",
   "metadata": {},
   "outputs": [],
   "source": [
    "# Introduction to Data Analysis\n",
    "# Loading and Exploring Salaes DAta\n",
    "# Cleaning and Transforming Data\n",
    "# Generating Insights and Visualizations"
   ]
  },
  {
   "cell_type": "code",
   "execution_count": null,
   "id": "39ffffc5",
   "metadata": {},
   "outputs": [],
   "source": [
    "# Introduction to Data Analysis\n",
    "\n",
    "# What is data analysis?\n",
    "# Data analysis is the process of inspecting cleaning, transforming\n",
    "# and modeling data to extract meaningful information and \n",
    "# support decision making.\n",
    "\n",
    "# Why use Python for Data Analysis?\n",
    "# Libraries like Pandas and Matplotlib simplify data manipulation \n",
    "# and visualization.\n",
    "# Python is versatile, allowing seamless intergration with \n",
    "# other tools, and it's ideal for automating repetitive tasks.\n"
   ]
  }
 ],
 "metadata": {
  "kernelspec": {
   "display_name": ".venv",
   "language": "python",
   "name": "python3"
  },
  "language_info": {
   "name": "python",
   "version": "3.12.7"
  }
 },
 "nbformat": 4,
 "nbformat_minor": 5
}
