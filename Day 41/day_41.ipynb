{
 "cells": [
  {
   "cell_type": "code",
   "execution_count": null,
   "id": "1a1cc28b",
   "metadata": {},
   "outputs": [],
   "source": [
    "# Introduction to Flask Deployment\n",
    "# Preparing our Flask app for Deployment\n",
    "# Deploying to Heroku\n",
    "# Environment Variables and Secrets Management"
   ]
  },
  {
   "cell_type": "code",
   "execution_count": null,
   "id": "8c91eda1",
   "metadata": {},
   "outputs": [],
   "source": [
    "# Introduction to Flask Deployment\n",
    "\n",
    "# Now why deploy flask apps?\n",
    "# It makes our app accessible to a global audience.\n",
    "# \n",
    "# Now if we make an application and just run it on our computer, what\n",
    "# is the use of it?\n",
    "# It enables continuous integration and delivery so we can constantly update \n",
    "# our application as and when we're completed new functionalities and features\n",
    "# and showcase your project portfolio.\n",
    "\n",
    "# It helps us during our interviews, during client meetings , or \n",
    "# showing people your potential.\n",
    "\n",
    "# Finally what are the popular flat hosting platforms?\n",
    "# We have Heroku, which is beginner firendly\n",
    "# We have AWS Elastic Beanstalk, which is scalable,\n",
    "# We have Google App Engine, Which is fully managed \n",
    "# We have Microsoft Azure App Services that are available."
   ]
  }
 ],
 "metadata": {
  "language_info": {
   "name": "python"
  }
 },
 "nbformat": 4,
 "nbformat_minor": 5
}
