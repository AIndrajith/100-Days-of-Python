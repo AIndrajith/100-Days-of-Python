{
 "cells": [
  {
   "cell_type": "code",
   "execution_count": null,
   "id": "8279405e",
   "metadata": {},
   "outputs": [],
   "source": [
    "# Advanced Flask Routing\n",
    "# Dynamic Template with Jinja2\n",
    "# Passing Date between Routes and Templates\n",
    "# Organizing Flask Projects for Scalability"
   ]
  },
  {
   "cell_type": "code",
   "execution_count": null,
   "id": "eb24bec6",
   "metadata": {},
   "outputs": [],
   "source": [
    "# Advanced Flask Routing \n",
    "\n",
    "# there is called static routes which are fixed URLs.\n",
    "# Examples slash about or slash home.\n",
    "\n",
    "# then we also have dynamic routes URL with variables where we can say slash post \n",
    "# slash ID, or what we did yesterday was slash greet slash inside angular brackets.\n",
    "\n",
    "# We also have template rendering where you pass data from routes to templates, \n",
    "# which we have seen yesterday.\n",
    "# Again , where we pass the name based on the routes that were specified for\n",
    "# greeting a particular user.\n"
   ]
  },
  {
   "cell_type": "code",
   "execution_count": null,
   "id": "06875e4b",
   "metadata": {},
   "outputs": [],
   "source": [
    "# Dynamic Templates with Jinja2\n",
    "\n",
    "# so using Jinja2 templates we have variable where we pass date into templates.\n",
    "# With angular, the curly brackets,curly brackets and the variable name inside with\n",
    "# curly closing curly brackets.\n",
    "\n",
    "# you can also do loops where you render lists from using curly bracket percentage, \n",
    "# and inside that you can write a for loop.\n",
    "# you can do conditionals\n",
    "# You can display content conditionally by using again that curly bracket percentage.\n",
    "# And if is what you can use inside there."
   ]
  }
 ],
 "metadata": {
  "kernelspec": {
   "display_name": ".venv",
   "language": "python",
   "name": "python3"
  },
  "language_info": {
   "name": "python",
   "version": "3.12.7"
  }
 },
 "nbformat": 4,
 "nbformat_minor": 5
}
