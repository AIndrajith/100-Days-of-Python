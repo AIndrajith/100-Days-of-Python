{
 "cells": [
  {
   "cell_type": "code",
   "execution_count": null,
   "id": "1d24538b",
   "metadata": {},
   "outputs": [],
   "source": [
    "# Stock Market Dashboard\n",
    "\n",
    "# Working with stock Price Data\n",
    "# Creating a Tkinter Dashboard\n",
    "# Plotting Stock Trends with Matplotlib\n",
    "# Adding Interactivity to the Dashboard"
   ]
  },
  {
   "cell_type": "code",
   "execution_count": null,
   "id": "54d9a4be",
   "metadata": {},
   "outputs": [],
   "source": []
  }
 ],
 "metadata": {
  "kernelspec": {
   "display_name": ".venv",
   "language": "python",
   "name": "python3"
  },
  "language_info": {
   "name": "python",
   "version": "3.12.7"
  }
 },
 "nbformat": 4,
 "nbformat_minor": 5
}
