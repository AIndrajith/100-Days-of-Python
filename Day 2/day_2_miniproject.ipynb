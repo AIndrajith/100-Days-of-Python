{
 "cells": [
  {
   "cell_type": "code",
   "execution_count": 1,
   "metadata": {},
   "outputs": [
    {
     "name": "stdout",
     "output_type": "stream",
     "text": [
      "\n",
      "----Personal Greeting-----\n",
      "Hello, Indrajith!\n",
      "You are 25 years old and purple is beautiful color!\n",
      "You're now ready to start your Python adventure\n"
     ]
    }
   ],
   "source": [
    "# Personalized Greeting Program\n",
    "\n",
    "# Step 1: Ask for user details\n",
    "name = input(\"What is your name? \")\n",
    "age = int(input(\"How old are you? \"))\n",
    "color = input(\"What is your favourite color? \")\n",
    "\n",
    "# Step 2: Greet the user\n",
    "print(\"\\n----Personal Greeting-----\")\n",
    "print(f\"Hello, {name}!\")\n",
    "print(f\"You are {age} years old and {color} is beautiful color!\")\n",
    "print(\"You're now ready to start your Python adventure\")"
   ]
  }
 ],
 "metadata": {
  "kernelspec": {
   "display_name": ".venv",
   "language": "python",
   "name": "python3"
  },
  "language_info": {
   "codemirror_mode": {
    "name": "ipython",
    "version": 3
   },
   "file_extension": ".py",
   "mimetype": "text/x-python",
   "name": "python",
   "nbconvert_exporter": "python",
   "pygments_lexer": "ipython3",
   "version": "3.12.7"
  }
 },
 "nbformat": 4,
 "nbformat_minor": 2
}
