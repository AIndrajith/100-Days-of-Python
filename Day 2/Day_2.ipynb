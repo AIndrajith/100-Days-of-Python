{
 "cells": [
  {
   "cell_type": "code",
   "execution_count": null,
   "metadata": {},
   "outputs": [],
   "source": [
    "# Storing a name in a variable\n",
    "name = \"Indrajith\"\n",
    "\n",
    "# Storing an age in a variable\n",
    "age = 24"
   ]
  },
  {
   "cell_type": "code",
   "execution_count": 1,
   "metadata": {},
   "outputs": [
    {
     "name": "stdout",
     "output_type": "stream",
     "text": [
      "<class 'str'>\n",
      "<class 'int'>\n",
      "<class 'float'>\n",
      "<class 'bool'>\n"
     ]
    }
   ],
   "source": [
    "# String \n",
    "name = \"Indrajith\"\n",
    "\n",
    "#Integer\n",
    "age = 24\n",
    "\n",
    "# Float \n",
    "height = 6.1\n",
    "\n",
    "# Boolean\n",
    "is_student = False\n",
    "\n",
    "print(type(name))\n",
    "print(type(age))\n",
    "print(type(height))\n",
    "print(type(is_student))"
   ]
  },
  {
   "cell_type": "code",
   "execution_count": null,
   "metadata": {},
   "outputs": [
    {
     "name": "stdout",
     "output_type": "stream",
     "text": [
      "30\n"
     ]
    }
   ],
   "source": [
    "# Type conversion\n",
    "\n",
    "age1 = \"25\"\n",
    "\n",
    "myAge = int(age1)\n",
    "\n",
    "print(myAge + 5)"
   ]
  },
  {
   "cell_type": "code",
   "execution_count": 3,
   "metadata": {},
   "outputs": [
    {
     "name": "stdout",
     "output_type": "stream",
     "text": [
      "Hello, Indrajith!\n",
      "Hello My Friend, Indrajith!\n",
      "Hello, Indrajith!\n"
     ]
    }
   ],
   "source": [
    "# String formatting\n",
    "\n",
    "name = \"Indrajith\"\n",
    "\n",
    "print(\"Hello, \"+ name + \"!\")\n",
    "\n",
    "print(\"Hello My Friend, {}!\".format(name))\n",
    "\n",
    "print(f\"Hello, {name}!\")"
   ]
  }
 ],
 "metadata": {
  "kernelspec": {
   "display_name": ".venv",
   "language": "python",
   "name": "python3"
  },
  "language_info": {
   "codemirror_mode": {
    "name": "ipython",
    "version": 3
   },
   "file_extension": ".py",
   "mimetype": "text/x-python",
   "name": "python",
   "nbconvert_exporter": "python",
   "pygments_lexer": "ipython3",
   "version": "3.12.7"
  }
 },
 "nbformat": 4,
 "nbformat_minor": 2
}
