{
 "cells": [
  {
   "cell_type": "code",
   "execution_count": 1,
   "metadata": {},
   "outputs": [
    {
     "name": "stdout",
     "output_type": "stream",
     "text": [
      "\n",
      "---Welcome Message ---\n",
      "Hello, Indrajith Deegalla! 👋\n",
      "Welcome to the world of Python Programming.\n",
      "It's great to know that you love Reading.\n",
      "Get ready to build something amazing today.\n"
     ]
    }
   ],
   "source": [
    "# Welcome Message Generator\n",
    "\n",
    "# Step 1: Ask for user details\n",
    "name = input(\"What is your name?\")\n",
    "hobby = input(\"What is your favourite hobby?\")\n",
    "\n",
    "# Step 2: Generate a personalized welcome message\n",
    "print(\"\\n---Welcome Message ---\")\n",
    "print(f\"Hello, {name}! 👋\")\n",
    "print(\"Welcome to the world of Python Programming.\")\n",
    "print(f\"It's great to know that you love {hobby}.\")\n",
    "print(f\"Get ready to build something amazing today.\")"
   ]
  }
 ],
 "metadata": {
  "kernelspec": {
   "display_name": "venv",
   "language": "python",
   "name": "python3"
  },
  "language_info": {
   "codemirror_mode": {
    "name": "ipython",
    "version": 3
   },
   "file_extension": ".py",
   "mimetype": "text/x-python",
   "name": "python",
   "nbconvert_exporter": "python",
   "pygments_lexer": "ipython3",
   "version": "3.12.7"
  }
 },
 "nbformat": 4,
 "nbformat_minor": 2
}
