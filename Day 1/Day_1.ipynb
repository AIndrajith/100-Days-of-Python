{
 "cells": [
  {
   "cell_type": "code",
   "execution_count": 3,
   "metadata": {},
   "outputs": [
    {
     "name": "stdout",
     "output_type": "stream",
     "text": [
      "Hello Python World!\n"
     ]
    }
   ],
   "source": [
    "print(\"Hello Python World!\")"
   ]
  },
  {
   "cell_type": "code",
   "execution_count": 4,
   "metadata": {},
   "outputs": [
    {
     "name": "stdout",
     "output_type": "stream",
     "text": [
      "The number is 4\n",
      "2 + 2 = 4\n"
     ]
    }
   ],
   "source": [
    "print(\"The number is\", 4)\n",
    "print(\"2 + 2 =\", 2+2)"
   ]
  },
  {
   "cell_type": "code",
   "execution_count": 6,
   "metadata": {},
   "outputs": [
    {
     "name": "stdout",
     "output_type": "stream",
     "text": [
      "Hello, {name}! Welcome to Python Programming\n",
      "Hello, Indrajith! Welcome to python Programming\n"
     ]
    }
   ],
   "source": [
    "name = \"Indrajith\"\n",
    "print(\"Hello, {name}! Welcome to Python Programming\")\n",
    "print(f\"Hello, {name}! Welcome to python Programming\")"
   ]
  },
  {
   "cell_type": "code",
   "execution_count": 7,
   "metadata": {},
   "outputs": [
    {
     "name": "stdout",
     "output_type": "stream",
     "text": [
      "Hello, Indrajith! Welcome to Python Programming\n"
     ]
    }
   ],
   "source": [
    "user_name = input(\"What is your name? \")\n",
    "print(f\"Hello, {user_name}! Welcome to Python Programming\")"
   ]
  }
 ],
 "metadata": {
  "kernelspec": {
   "display_name": ".venv",
   "language": "python",
   "name": "python3"
  },
  "language_info": {
   "codemirror_mode": {
    "name": "ipython",
    "version": 3
   },
   "file_extension": ".py",
   "mimetype": "text/x-python",
   "name": "python",
   "nbconvert_exporter": "python",
   "pygments_lexer": "ipython3",
   "version": "3.12.7"
  }
 },
 "nbformat": 4,
 "nbformat_minor": 2
}
