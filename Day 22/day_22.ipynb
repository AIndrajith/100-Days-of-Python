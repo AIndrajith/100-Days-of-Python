{
 "cells": [
  {
   "cell_type": "code",
   "execution_count": null,
   "metadata": {},
   "outputs": [],
   "source": [
    "# Classes and Objects\n",
    "# Understanding Class Attributes and Methods \n",
    "# Constructors (_init_Method)\n",
    "# Working with Multiple Objects\n"
   ]
  },
  {
   "cell_type": "code",
   "execution_count": 5,
   "metadata": {},
   "outputs": [
    {
     "name": "stdout",
     "output_type": "stream",
     "text": [
      "This is a Tesla: Model 3\n",
      "This is a Honda: Accord\n"
     ]
    }
   ],
   "source": [
    "# A Class is a blueprint for creating objects. It defines attributes, variables, and methods and functions.\n",
    "# Think of it as like a recipe. A recipe has ingredients, it has instructions on how to cook, but actually we can't eat the recipe.\n",
    "# We have to make something and that's where objects come \n",
    "\n",
    "# Object is an instance of a class. \n",
    "# What it does is we look at a recipe and we cook something and that's an object.\n",
    "\n",
    "# Class is a blueprint, whereas object is actually the house that we build with the bluepint.\n",
    "\n",
    "\n",
    "# create a class\n",
    "class Car:\n",
    "    def __init__(self, brand, model):\n",
    "        self.brand = brand\n",
    "        self.model = model\n",
    "\n",
    "    def display_info(self):\n",
    "        print(f\"This is a {self.brand}: {self.model}\")  \n",
    "\n",
    "# create an Object\n",
    "my_car = Car(\"Tesla\", \"Model 3\")\n",
    "my_car.display_info()\n",
    "\n",
    "your_car = Car(\"Honda\",\"Accord\")\n",
    "your_car.display_info()\n",
    "\n"
   ]
  },
  {
   "cell_type": "code",
   "execution_count": 10,
   "metadata": {},
   "outputs": [
    {
     "name": "stdout",
     "output_type": "stream",
     "text": [
      "Buddy is barking!\n",
      "Max is barking!\n"
     ]
    }
   ],
   "source": [
    "# Class Attributes and Methods\n",
    "\n",
    "# Attribes are variables that belong to the class or object\n",
    "# Methods are the functions that operate on object data like we had the method display_info\n",
    "\n",
    "\n",
    "class Dog:\n",
    "    def __init__(self, name, breed):\n",
    "        self.name = name\n",
    "        self.breed = breed \n",
    "\n",
    "    def bark(self):\n",
    "        print(f\"{self.name} is barking!\")\n",
    "\n",
    "dog1 = Dog(\"Buddy\", \"Golden Retriever\")\n",
    "dog2 = Dog(\"Max\", \"BullDog\")  \n",
    "\n",
    "dog1.bark()\n",
    "dog2.bark()"
   ]
  },
  {
   "cell_type": "code",
   "execution_count": 12,
   "metadata": {},
   "outputs": [
    {
     "name": "stdout",
     "output_type": "stream",
     "text": [
      "Hello, my name is John and I am 25 years old.\n"
     ]
    }
   ],
   "source": [
    "# Constructors(__init__Method)\n",
    "\n",
    "# The init method is called automatically. \n",
    "# When an object is created, it initializes the object attributes.\n",
    "\n",
    "class Person:\n",
    "    def __init__(self, name, age):\n",
    "        self.name = name\n",
    "        self.age = age\n",
    "\n",
    "    def greet(self):\n",
    "        print(f\"Hello, my name is {self.name} and I am {self.age} years old.\")\n",
    "\n",
    "person1 = Person(\"John\",25)\n",
    "person1.greet()            "
   ]
  }
 ],
 "metadata": {
  "kernelspec": {
   "display_name": ".venv",
   "language": "python",
   "name": "python3"
  },
  "language_info": {
   "codemirror_mode": {
    "name": "ipython",
    "version": 3
   },
   "file_extension": ".py",
   "mimetype": "text/x-python",
   "name": "python",
   "nbconvert_exporter": "python",
   "pygments_lexer": "ipython3",
   "version": "3.12.7"
  }
 },
 "nbformat": 4,
 "nbformat_minor": 2
}
