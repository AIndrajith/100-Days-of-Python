{
 "cells": [
  {
   "cell_type": "code",
   "execution_count": null,
   "metadata": {},
   "outputs": [],
   "source": [
    "# Dictionaries\n",
    "# Accessing , Modifying , Adding and Remove entries\n",
    "# Looping through a dictionary"
   ]
  },
  {
   "cell_type": "code",
   "execution_count": 4,
   "metadata": {},
   "outputs": [
    {
     "name": "stdout",
     "output_type": "stream",
     "text": [
      "123-456-7890\n",
      "johm@example.com\n",
      "{'name': 'John Doe', 'phone': '765-925-8670', 'email': 'johm@example.com'}\n",
      "{'name': 'John Doe', 'phone': '765-925-8670', 'email': 'johm@example.com', 'address': '123 Main st'}\n",
      "{'name': 'John Doe', 'phone': '765-925-8670', 'address': '123 Main st'}\n",
      "name : John Doe\n",
      "phone : 765-925-8670\n",
      "address : 123 Main st\n",
      "Email Not Found!\n"
     ]
    }
   ],
   "source": [
    "my_dict = {\n",
    "    \"key1\":\"value1\",\n",
    "    \"key2\":\"value2\",\n",
    "    \"key3\":\"value3\"\n",
    "}\n",
    "\n",
    "contact = {\n",
    "    \"name\": \"John Doe\", \n",
    "    \"phone\":\"123-456-7890\",\n",
    "    \"email\":\"johm@example.com\"\n",
    "}\n",
    "\n",
    "print(contact[\"phone\"])\n",
    "print(contact.get(\"email\")) # Accessing dictionry\n",
    "\n",
    "contact[\"phone\"] = \"765-925-8670\" # Modifying dictionary\n",
    "print(contact)\n",
    "\n",
    "contact[\"address\"] = \"123 Main st\"  # Adding some thing to dictionary\n",
    "print(contact)\n",
    "\n",
    "del contact[\"email\"]  # Delete item in dictionary\n",
    "print(contact)\n",
    "\n",
    "for key, value in contact.items():  # looping through dictionary\n",
    "    print(f\"{key} : {value}\")\n",
    "\n",
    "if \"email\" in contact:\n",
    "    print(\"Email Found!\")\n",
    "else:\n",
    "    print(\"Email Not Found!\")    "
   ]
  },
  {
   "cell_type": "code",
   "execution_count": null,
   "metadata": {},
   "outputs": [],
   "source": []
  }
 ],
 "metadata": {
  "kernelspec": {
   "display_name": ".venv",
   "language": "python",
   "name": "python3"
  },
  "language_info": {
   "codemirror_mode": {
    "name": "ipython",
    "version": 3
   },
   "file_extension": ".py",
   "mimetype": "text/x-python",
   "name": "python",
   "nbconvert_exporter": "python",
   "pygments_lexer": "ipython3",
   "version": "3.12.7"
  }
 },
 "nbformat": 4,
 "nbformat_minor": 2
}
