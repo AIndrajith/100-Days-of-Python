{
 "cells": [
  {
   "cell_type": "code",
   "execution_count": 2,
   "metadata": {},
   "outputs": [
    {
     "name": "stdout",
     "output_type": "stream",
     "text": [
      "\n",
      "----Countdown Begins----\n",
      "10\n",
      "9\n",
      "8\n",
      "7\n",
      "6\n",
      "5\n",
      "4\n",
      "3\n",
      "2\n",
      "1\n",
      "Countdown Complete!\n"
     ]
    }
   ],
   "source": [
    "# Countdown timer \n",
    "\n",
    "import time\n",
    "\n",
    "# Step 1: Ger user input for countdown start\n",
    "start = int(input(\"Enter the number to start the countdown from: \"))\n",
    "\n",
    "# Step 2: Countdown using a while loop\n",
    "print(\"\\n----Countdown Begins----\")\n",
    "while start > 0:\n",
    "    print(start)\n",
    "    time.sleep(1)\n",
    "    start -= 1\n",
    "\n",
    "# Step 3: Print final message\n",
    "print(\"Countdown Complete!\")"
   ]
  },
  {
   "cell_type": "code",
   "execution_count": 4,
   "metadata": {},
   "outputs": [
    {
     "name": "stdout",
     "output_type": "stream",
     "text": [
      "\n",
      "----Countdown Begins----\n",
      "10\n",
      "9\n",
      "8\n",
      "7\n",
      "6\n",
      "5\n",
      "4\n",
      "3\n",
      "2\n",
      "1\n",
      "Countdown Complete!\n"
     ]
    }
   ],
   "source": [
    "import time\n",
    "\n",
    "# Step 1: Ger user input for countdown start\n",
    "start = int(input(\"Enter the number to start the countdown from: \"))\n",
    "speed = float(input(\"Enter the speed that you want to count: \"))\n",
    "\n",
    "# Step 2: Countdown using a while loop\n",
    "print(\"\\n----Countdown Begins----\")\n",
    "while start > 0:\n",
    "    print(start)\n",
    "    time.sleep(speed)\n",
    "    start -= 1\n",
    "\n",
    "# Step 3: Print final message\n",
    "print(\"Countdown Complete!\")"
   ]
  }
 ],
 "metadata": {
  "kernelspec": {
   "display_name": ".venv",
   "language": "python",
   "name": "python3"
  },
  "language_info": {
   "codemirror_mode": {
    "name": "ipython",
    "version": 3
   },
   "file_extension": ".py",
   "mimetype": "text/x-python",
   "name": "python",
   "nbconvert_exporter": "python",
   "pygments_lexer": "ipython3",
   "version": "3.12.7"
  }
 },
 "nbformat": 4,
 "nbformat_minor": 2
}
