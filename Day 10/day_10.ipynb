{
 "cells": [
  {
   "cell_type": "code",
   "execution_count": null,
   "metadata": {},
   "outputs": [],
   "source": [
    "# File handling\n",
    "\n",
    "# Reading from files\n",
    "# Writing to files\n",
    "# Appending to files"
   ]
  },
  {
   "cell_type": "code",
   "execution_count": null,
   "metadata": {},
   "outputs": [],
   "source": [
    "# File handling is a way to store, access and manipulate data in files on computer\n",
    "\n",
    "# file = open(\"filename.txt\",\"mode\")\n",
    "\n",
    "# there are three modes \n",
    "\n",
    "# r = read\n",
    "# w = write\n",
    "# r+ = append mode\n",
    "\n",
    "file = open(\"filename.txt\",\"r+\")\n",
    "file.close()"
   ]
  },
  {
   "cell_type": "code",
   "execution_count": 6,
   "metadata": {},
   "outputs": [
    {
     "name": "stdout",
     "output_type": "stream",
     "text": [
      "Hello new note\n",
      "\n"
     ]
    }
   ],
   "source": [
    "with open(\"notes.txt\",\"r\") as file:\n",
    "    content = file.read()\n",
    "    print(content)  \n",
    "\n",
    "# in here we don't need to close the file     \n",
    "# because we use \"with\"  "
   ]
  },
  {
   "cell_type": "code",
   "execution_count": 7,
   "metadata": {},
   "outputs": [],
   "source": [
    "with open(\"notes.txt\",\"w\") as file:     # this overwrites the exiting data\n",
    "    file.write(\"\\nThis is a new note.\\n\")"
   ]
  },
  {
   "cell_type": "code",
   "execution_count": 8,
   "metadata": {},
   "outputs": [],
   "source": [
    "# when we want to add data to a file without overwriting \n",
    "with open(\"notes.txt\",\"a\") as file:\n",
    "    file.write(\"\\nThis is a new second note.\\n\")"
   ]
  },
  {
   "cell_type": "code",
   "execution_count": 9,
   "metadata": {},
   "outputs": [],
   "source": [
    "with open(\"notes1.txt\",\"a\") as file:\n",
    "    file.write(\"\\nThis is a new second note.\\n\")"
   ]
  }
 ],
 "metadata": {
  "kernelspec": {
   "display_name": ".venv",
   "language": "python",
   "name": "python3"
  },
  "language_info": {
   "codemirror_mode": {
    "name": "ipython",
    "version": 3
   },
   "file_extension": ".py",
   "mimetype": "text/x-python",
   "name": "python",
   "nbconvert_exporter": "python",
   "pygments_lexer": "ipython3",
   "version": "3.12.7"
  }
 },
 "nbformat": 4,
 "nbformat_minor": 2
}
