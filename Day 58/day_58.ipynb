{
 "cells": [
  {
   "cell_type": "code",
   "execution_count": null,
   "id": "be5b85e8",
   "metadata": {},
   "outputs": [],
   "source": [
    "# Understanding the Pomodoro Technique\n",
    "\n",
    "# Creating the Timer Logic\n",
    "\n",
    "# Building GUI with Tkinter\n",
    "\n",
    "# Adding Alerts and Customizations"
   ]
  },
  {
   "cell_type": "code",
   "execution_count": null,
   "id": "c1efe1af",
   "metadata": {},
   "outputs": [],
   "source": [
    "# Pomodoro Basics is you have work sessions , short break and \n",
    "# long break.\n",
    "# Typically , the work session is 25 minutes of focused work \n",
    "# where you just focus on your work and then you take a short \n",
    "# break, which is five minutes to rest.\n",
    "# And there's also sometimes long breaks, which are after four \n",
    "# work sessions, you take a longer, which is a 15 minute break.\n",
    "\n",
    "# so in a day you work for four sessions, 25 minutes long each\n",
    "# and have five minutes in between and then after four work \n",
    "# sessions, you take a 15 minute break and you do this twice in \n",
    "# a day. and that's your entire work session.\n",
    "\n",
    "# When the timer ends, you take a short break and then you repeat\n",
    "# until your complete four sessions.\n",
    "# Then take a long break."
   ]
  }
 ],
 "metadata": {
  "kernelspec": {
   "display_name": ".venv",
   "language": "python",
   "name": "python3"
  },
  "language_info": {
   "codemirror_mode": {
    "name": "ipython",
    "version": 3
   },
   "file_extension": ".py",
   "mimetype": "text/x-python",
   "name": "python",
   "nbconvert_exporter": "python",
   "pygments_lexer": "ipython3",
   "version": "3.12.7"
  }
 },
 "nbformat": 4,
 "nbformat_minor": 5
}
