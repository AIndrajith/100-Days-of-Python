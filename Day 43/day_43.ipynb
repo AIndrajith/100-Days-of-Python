{
 "cells": [
  {
   "cell_type": "code",
   "execution_count": null,
   "id": "09384101",
   "metadata": {},
   "outputs": [],
   "source": [
    "# Introduction to NumPy\n",
    "\n",
    "# Matrix Operations with NumPy\n",
    "\n",
    "# Handling User Input for Matrices\n",
    "\n",
    "# Building a Matrix Calculator"
   ]
  },
  {
   "cell_type": "code",
   "execution_count": null,
   "id": "8093056d",
   "metadata": {},
   "outputs": [],
   "source": [
    "# Introduction to NumPy\n",
    "\n",
    "# What is numpy?\n",
    "# NumPy stands for numerical python,\n",
    "# It provides support for multimensional arrays and mathematical\n",
    "# operations on these arrays\n",
    "# It's ideal for operations on matrices, linear algebra, and \n",
    "# data manipulation. \n",
    "\n",
    "# Why use NumPy?\n",
    "# It's fast and memory efficient and it simplifies complex mathematical\n",
    "# computations.\n",
    "# Also, it's used extensively in machine learning, data science\n",
    "# and scientific computing .\n",
    "\n",
    "# Installing NumPy\n",
    "# pip install numpy"
   ]
  },
  {
   "cell_type": "code",
   "execution_count": null,
   "id": "42d3b946",
   "metadata": {},
   "outputs": [],
   "source": []
  }
 ],
 "metadata": {
  "kernelspec": {
   "display_name": ".venv",
   "language": "python",
   "name": "python3"
  },
  "language_info": {
   "name": "python",
   "version": "3.12.7"
  }
 },
 "nbformat": 4,
 "nbformat_minor": 5
}
