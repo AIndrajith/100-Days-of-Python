{
 "cells": [
  {
   "cell_type": "code",
   "execution_count": null,
   "id": "a819a322",
   "metadata": {},
   "outputs": [],
   "source": [
    "# Introduction to Advanced Tkinter Widgets\n",
    "# Using ListBox for Dynamic Lists \n",
    "# Scrollbar Intergration\n",
    "# Handling User Action (Add, Delete, Clear)"
   ]
  },
  {
   "cell_type": "code",
   "execution_count": null,
   "id": "aaa9b0c1",
   "metadata": {},
   "outputs": [],
   "source": [
    "# As mentioned before, ListBox which displays a list of items can be helpful for displaying our to do list\n",
    "# items in this particular case.\n",
    "# Then we have scroll bar scroll through the content in widgets , example list, box, canvas, etc.\n",
    "# Finally Frame - Frame is something that we used in our previous projects where we did a drawing pad, \n",
    "# where we created a frame and we added items into that."
   ]
  },
  {
   "cell_type": "code",
   "execution_count": null,
   "id": "daede71d",
   "metadata": {},
   "outputs": [],
   "source": [
    "# Using ListBox for Dynamic Lists.\n",
    "\n",
    "# ListBox allows users to add, select and remove items from a list\n",
    "# it supports multi-selection scrolling and dynamic updates.\n",
    "#  day_34_i.py"
   ]
  },
  {
   "cell_type": "code",
   "execution_count": null,
   "id": "e0cee713",
   "metadata": {},
   "outputs": [],
   "source": [
    "# scrollbar is often paired with the list box for navigating long lists.\n",
    "# "
   ]
  }
 ],
 "metadata": {
  "kernelspec": {
   "display_name": ".venv",
   "language": "python",
   "name": "python3"
  },
  "language_info": {
   "codemirror_mode": {
    "name": "ipython",
    "version": 3
   },
   "file_extension": ".py",
   "mimetype": "text/x-python",
   "name": "python",
   "nbconvert_exporter": "python",
   "pygments_lexer": "ipython3",
   "version": "3.12.7"
  }
 },
 "nbformat": 4,
 "nbformat_minor": 5
}
