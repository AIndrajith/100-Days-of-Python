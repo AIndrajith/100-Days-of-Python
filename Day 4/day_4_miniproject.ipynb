{
 "cells": [
  {
   "cell_type": "code",
   "execution_count": 1,
   "metadata": {},
   "outputs": [
    {
     "name": "stdout",
     "output_type": "stream",
     "text": [
      "\n",
      "----Comparison Result----\n",
      "32.0 is greater than 25.0\n",
      "\n",
      "Both numbers are non-zero\n"
     ]
    }
   ],
   "source": [
    "# Number Comparison Tool\n",
    "\n",
    "# Step 1: Get user input for two numbers\n",
    "num1 = float(input(\"Enter the first number: \"))\n",
    "num2 = float(input(\"Enter the second number: \"))\n",
    "\n",
    "# Step 2: Compare the numbers\n",
    "print(\"\\n----Comparison Result----\")\n",
    "\n",
    "if num1 == num2:\n",
    "    print(f\"Both numbers are equal: {num1}\")\n",
    "elif num1 > num2:\n",
    "    print(f\"{num1} is greater than {num2}\")\n",
    "else:\n",
    "    print(f\"{num2} is greater than {num1}\")\n",
    "\n",
    "# Step 3: Check if any number is zero\n",
    "if num1 == 0 or num2 == 0:\n",
    "    print(\"\\nAt least one number is zero.\") \n",
    "else:\n",
    "    print(\"\\nBoth numbers are non-zero\")           "
   ]
  }
 ],
 "metadata": {
  "kernelspec": {
   "display_name": ".venv",
   "language": "python",
   "name": "python3"
  },
  "language_info": {
   "codemirror_mode": {
    "name": "ipython",
    "version": 3
   },
   "file_extension": ".py",
   "mimetype": "text/x-python",
   "name": "python",
   "nbconvert_exporter": "python",
   "pygments_lexer": "ipython3",
   "version": "3.12.7"
  }
 },
 "nbformat": 4,
 "nbformat_minor": 2
}
