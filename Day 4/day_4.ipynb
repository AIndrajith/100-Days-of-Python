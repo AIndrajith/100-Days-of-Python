{
 "cells": [
  {
   "cell_type": "code",
   "execution_count": null,
   "metadata": {},
   "outputs": [],
   "source": [
    "# If-Else Statement\n",
    "# Comparison Operators\n",
    "# Logical Operators\n",
    "# Nested If-Else\n",
    "\n",
    "\n",
    "if condition:\n",
    "    # Do something if the condition is True\n",
    "else:\n",
    "    # Do something if the condition is False    "
   ]
  },
  {
   "cell_type": "code",
   "execution_count": 3,
   "metadata": {},
   "outputs": [
    {
     "name": "stdout",
     "output_type": "stream",
     "text": [
      "The number is greater than 5.\n"
     ]
    }
   ],
   "source": [
    "number = 6\n",
    "\n",
    "if number > 5: \n",
    "    print(\"The number is greater than 5.\")\n",
    "elif number == 5:\n",
    "    print(\"The number is equal to 5.\")\n",
    "else:\n",
    "    print(\"The number is less than 5.\")\n",
    "        "
   ]
  },
  {
   "cell_type": "code",
   "execution_count": 5,
   "metadata": {},
   "outputs": [],
   "source": [
    "# Comparison Operators\n",
    "\n",
    "# != \"Not equals\"\n",
    "# <= \"Less than or equal\"\n",
    "# >= \"Greater than or equal\"\n",
    "# < \"Less than \"\n",
    "# > \"Greater than\""
   ]
  },
  {
   "cell_type": "code",
   "execution_count": 6,
   "metadata": {},
   "outputs": [
    {
     "name": "stdout",
     "output_type": "stream",
     "text": [
      "Either one of them is true.\n"
     ]
    }
   ],
   "source": [
    "a = 7 \n",
    "b = 12\n",
    "\n",
    "if a>5 or b< 15:\n",
    "    print(\"Either one of them is true.\")\n",
    "else:\n",
    "    print(\"Both conditions are false\")    "
   ]
  },
  {
   "cell_type": "code",
   "execution_count": 7,
   "metadata": {},
   "outputs": [
    {
     "name": "stdout",
     "output_type": "stream",
     "text": [
      "Both conditions are true.\n"
     ]
    }
   ],
   "source": [
    "a = 7 \n",
    "b = 12\n",
    "\n",
    "if a>5 and b< 15:\n",
    "    print(\"Both conditions are true.\")\n",
    "else:\n",
    "    print(\"Both conditions are false\")  "
   ]
  },
  {
   "cell_type": "code",
   "execution_count": 8,
   "metadata": {},
   "outputs": [
    {
     "name": "stdout",
     "output_type": "stream",
     "text": [
      "The number is equal to 5.\n"
     ]
    }
   ],
   "source": [
    "# Nested if-else statement\n",
    "\n",
    "number = 5 \n",
    "\n",
    "if number > 5:\n",
    "    print(\"The number is greater than 5.\")\n",
    "elif number == 5 :\n",
    "    print(\"The number is equal to 5.\")\n",
    "elif number == 4:\n",
    "    print(\"The number is equal to 4.\")\n",
    "else:\n",
    "    print(\"The number is less than 5.\")            "
   ]
  }
 ],
 "metadata": {
  "kernelspec": {
   "display_name": ".venv",
   "language": "python",
   "name": "python3"
  },
  "language_info": {
   "codemirror_mode": {
    "name": "ipython",
    "version": 3
   },
   "file_extension": ".py",
   "mimetype": "text/x-python",
   "name": "python",
   "nbconvert_exporter": "python",
   "pygments_lexer": "ipython3",
   "version": "3.12.7"
  }
 },
 "nbformat": 4,
 "nbformat_minor": 2
}
