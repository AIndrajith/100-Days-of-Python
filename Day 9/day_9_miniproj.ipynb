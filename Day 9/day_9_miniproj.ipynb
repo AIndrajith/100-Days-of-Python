{
 "cells": [
  {
   "cell_type": "code",
   "execution_count": 4,
   "metadata": {},
   "outputs": [
    {
     "name": "stdout",
     "output_type": "stream",
     "text": [
      "\n",
      "--- Ingredient Check Results ---\n",
      "You are missing the following ingredients: eggs, milk, sugar, flour, butter\n",
      "You have extra ingredients: flour,milk,salt,butter\n"
     ]
    }
   ],
   "source": [
    "# Ingredients checker\n",
    "\n",
    "# Step 1: Define the recipe ingredients\n",
    "recipe_ingredients = {\"flour\",\"sugar\",\"butter\",\"eggs\",\"milk\"}\n",
    "\n",
    "# Step 2: Get user input for available ingredients\n",
    "user_input = input(\"Enter the ingredients you have (separated by commas): \")\n",
    "user_ingredients = set(user_input.split(\", \"))\n",
    "\n",
    "# Step 3: Compare Ingredients\n",
    "missing_ingredients = recipe_ingredients - user_ingredients\n",
    "extra_ingredients = user_ingredients - recipe_ingredients\n",
    "\n",
    "# Step 4: Display Results\n",
    "print(\"\\n--- Ingredient Check Results ---\")\n",
    "if missing_ingredients:\n",
    "    print(f\"You are missing the following ingredients: {', '.join(missing_ingredients)}\")\n",
    "else:\n",
    "    print(\"You have all the Ingredients needed.\")\n",
    "\n",
    "if extra_ingredients:\n",
    "    print(f\"You have extra ingredients: {', '.join(extra_ingredients)}\")\n",
    "else:\n",
    "    print(\"You have all the ingredients needed.\")            "
   ]
  }
 ],
 "metadata": {
  "kernelspec": {
   "display_name": ".venv",
   "language": "python",
   "name": "python3"
  },
  "language_info": {
   "codemirror_mode": {
    "name": "ipython",
    "version": 3
   },
   "file_extension": ".py",
   "mimetype": "text/x-python",
   "name": "python",
   "nbconvert_exporter": "python",
   "pygments_lexer": "ipython3",
   "version": "3.12.7"
  }
 },
 "nbformat": 4,
 "nbformat_minor": 2
}
