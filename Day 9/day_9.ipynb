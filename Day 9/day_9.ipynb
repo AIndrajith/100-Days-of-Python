{
 "cells": [
  {
   "cell_type": "code",
   "execution_count": null,
   "metadata": {},
   "outputs": [],
   "source": [
    "# tuples\n",
    "# Tuple Operations and unpacking\n",
    "# Sets\n",
    "# Set operations - union , Intersection, Defference"
   ]
  },
  {
   "cell_type": "code",
   "execution_count": 3,
   "metadata": {},
   "outputs": [
    {
     "name": "stdout",
     "output_type": "stream",
     "text": [
      "banana\n",
      "cherry\n"
     ]
    }
   ],
   "source": [
    "# Tupples are immutable\n",
    "\n",
    "my_tuple = (1, 2, 3)\n",
    "\n",
    "fruits = (\"apple\", \"banana\", \"cherry\")\n",
    "print(fruits[1])\n",
    "print(fruits[-1])"
   ]
  },
  {
   "cell_type": "code",
   "execution_count": 7,
   "metadata": {},
   "outputs": [
    {
     "name": "stdout",
     "output_type": "stream",
     "text": [
      "10\n",
      "20\n",
      "30\n",
      "3\n",
      "('apple', 'banana', 'cherry', 'orange')\n"
     ]
    }
   ],
   "source": [
    "coordinates = (10, 20, 30)\n",
    "x , y, z = coordinates\n",
    "\n",
    "print(x)\n",
    "print(y)\n",
    "print(z)\n",
    "\n",
    "fruits1 = (\"apple\", \"banana\", \"cherry\")\n",
    "print(len(fruits1))\n",
    "\n",
    "print(fruits1 + (\"orange\",))"
   ]
  },
  {
   "cell_type": "code",
   "execution_count": 10,
   "metadata": {},
   "outputs": [
    {
     "name": "stdout",
     "output_type": "stream",
     "text": [
      "{'butter', 'flour', 'sugar'}\n",
      "{'eggs', 'butter', 'flour'}\n"
     ]
    }
   ],
   "source": [
    "# Sets - unordered collection of unique items\n",
    "\n",
    "my_set = {1,2,3}\n",
    "\n",
    "ingredients = {\"flour\",\"sugar\",\"butter\"}\n",
    "print(ingredients)\n",
    "\n",
    "ingredients.add(\"eggs\")\n",
    "\n",
    "ingredients.remove(\"sugar\")\n",
    "print(ingredients)"
   ]
  },
  {
   "cell_type": "code",
   "execution_count": 12,
   "metadata": {},
   "outputs": [
    {
     "name": "stdout",
     "output_type": "stream",
     "text": [
      "{'butter', 'eggs', 'flour', 'sugar'}\n",
      "{'sugar'}\n",
      "{'butter', 'flour'}\n"
     ]
    }
   ],
   "source": [
    "set_a = {\"flour\",\"sugar\",\"butter\"}\n",
    "set_b = {\"sugar\",\"eggs\"}\n",
    "\n",
    "print(set_a | set_b)  # union\n",
    "print(set_a & set_b)  # intersection\n",
    "print(set_a - set_b)  # defference\n",
    "# print(set_a ^ set_b) "
   ]
  }
 ],
 "metadata": {
  "kernelspec": {
   "display_name": ".venv",
   "language": "python",
   "name": "python3"
  },
  "language_info": {
   "codemirror_mode": {
    "name": "ipython",
    "version": 3
   },
   "file_extension": ".py",
   "mimetype": "text/x-python",
   "name": "python",
   "nbconvert_exporter": "python",
   "pygments_lexer": "ipython3",
   "version": "3.12.7"
  }
 },
 "nbformat": 4,
 "nbformat_minor": 2
}
