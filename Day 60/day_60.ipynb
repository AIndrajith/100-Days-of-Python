{
 "cells": [
  {
   "cell_type": "code",
   "execution_count": null,
   "id": "3fd76406",
   "metadata": {},
   "outputs": [],
   "source": [
    "# Setting up a Secure Diary System \n",
    "\n",
    "# Encrypting Diary Entites\n",
    "\n",
    "# Creating , Viewing, and Managing Entries\n",
    "\n",
    "# Adding Password Protection"
   ]
  },
  {
   "cell_type": "code",
   "execution_count": null,
   "id": "f5791160",
   "metadata": {},
   "outputs": [],
   "source": [
    "# Diary Entry Structure\n",
    "\n",
    "# Each diary entry includes one, First will ve the date when \n",
    "# the entry was created, a title, a short title for the entry \n",
    "# and the content, which will be the detailed text.\n",
    "\n",
    "# Next, it's a file based storage, We'll store the diary entries \n",
    "# in encrypted files for files for privacy, and each file will \n",
    "# represent a single entry , so nobody should be able to read\n",
    "# these entries if they just get access to these files.\n",
    "\n",
    "# Next, we're going to talk about encrypting diary entries.\n",
    "\n",
    "# First we'll install the cryptography library.\n",
    "# And then we will look at how to run the encrypt and decrypt\n",
    "# functions.\n",
    "# pip install cryptography"
   ]
  }
 ],
 "metadata": {
  "kernelspec": {
   "display_name": ".venv",
   "language": "python",
   "name": "python3"
  },
  "language_info": {
   "name": "python",
   "version": "3.12.7"
  }
 },
 "nbformat": 4,
 "nbformat_minor": 5
}
