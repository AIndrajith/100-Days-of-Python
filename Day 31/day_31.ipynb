{
 "cells": [
  {
   "cell_type": "code",
   "execution_count": null,
   "id": "43199464",
   "metadata": {},
   "outputs": [],
   "source": [
    "# Understanding Input Fieds in Tkinter\n",
    "# Getting and Validating User Input\n",
    "# Displaying Dynamic Results\n",
    "# Using Entry Widgets with Labels and Buttons"
   ]
  },
  {
   "cell_type": "code",
   "execution_count": null,
   "id": "be7c2f73",
   "metadata": {},
   "outputs": [],
   "source": [
    "# Now in Tkinter, entry widgets are used for single line text input, which we have seen earlier.\n",
    "\n",
    "# They are ideal for accepting user data like numbers, names and other textual input.\n",
    "\n",
    "# We can get user input using entry, get and validate it before processing."
   ]
  },
  {
   "cell_type": "code",
   "execution_count": null,
   "id": "19d80da4",
   "metadata": {},
   "outputs": [],
   "source": [
    "# Now we can use labels which you have seen earlier to dynamically update results based on user input.\n",
    "\n",
    "# So user enters something you can as and when they enter and press a button, you can change text inside\n",
    "\n",
    "# the label based on what the user has entered."
   ]
  }
 ],
 "metadata": {
  "kernelspec": {
   "display_name": ".venv",
   "language": "python",
   "name": "python3"
  },
  "language_info": {
   "name": "python",
   "version": "3.12.7"
  }
 },
 "nbformat": 4,
 "nbformat_minor": 5
}
