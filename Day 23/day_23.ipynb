{
 "cells": [
  {
   "cell_type": "code",
   "execution_count": null,
   "metadata": {},
   "outputs": [],
   "source": [
    "# construnctors\n",
    "# using instance methods\n",
    "# Class Methods vs Static Methods\n",
    "# Encapsulation vs Validation\n"
   ]
  },
  {
   "cell_type": "code",
   "execution_count": 1,
   "metadata": {},
   "outputs": [
    {
     "name": "stdout",
     "output_type": "stream",
     "text": [
      "Title: 1984\n",
      "Author: George Orwell\n"
     ]
    }
   ],
   "source": [
    "# Constructor is a special method used to initialize objects. \n",
    "# In python, the constructor is defined by the __init__(method) -> (underscore underscore init underscore underscore method)\n",
    "\n",
    "class Book:\n",
    "    def __init__(self, title, author):\n",
    "        self.title = title\n",
    "        self.author = author\n",
    "\n",
    "    def display_info(self):\n",
    "        print(f\"Title: {self.title}\")\n",
    "        print(f\"Author: {self.author}\")\n",
    "\n",
    "# Create an object \n",
    "book1 = Book(\"1984\", \"George Orwell\")\n",
    "book1.display_info()           "
   ]
  },
  {
   "cell_type": "code",
   "execution_count": null,
   "metadata": {},
   "outputs": [],
   "source": [
    "# Using Instance Methods\n",
    "\n",
    "# instance methods operates on instance attributes which is self.\n",
    "# They can access and modify object data.\n",
    "# so for example here we have this instance method which is display info which takes that object that we passed here."
   ]
  },
  {
   "cell_type": "code",
   "execution_count": 2,
   "metadata": {},
   "outputs": [
    {
     "name": "stdout",
     "output_type": "stream",
     "text": [
      "Deposited $500. New Balance : $1500\n"
     ]
    }
   ],
   "source": [
    "class BankAccount:\n",
    "    def __init__(self, owner, balance=0):\n",
    "        self.owner = owner\n",
    "        self.balance = balance\n",
    "\n",
    "    def deposit(self, amount):\n",
    "        self.balance += amount\n",
    "        print(f\"Deposited ${amount}. New Balance : ${self.balance}\")\n",
    "\n",
    "account = BankAccount(\"John Doe\", 1000) \n",
    "account.deposit(500)           "
   ]
  },
  {
   "cell_type": "code",
   "execution_count": 3,
   "metadata": {},
   "outputs": [
    {
     "name": "stdout",
     "output_type": "stream",
     "text": [
      "App Version: 1.0\n",
      "Hello! Welcome to the app.\n"
     ]
    }
   ],
   "source": [
    "# Class methods vs Static methods\n",
    "# Class methods which also start with at the rate class method operates on class itself, not on individual instances. we don't have to pass the instances over there.\n",
    "# These are defined with at the rate class method decorator.\n",
    "\n",
    "# Static methods does not operat on instance or class attributes.\n",
    "# they are defined with at the rate static method decorator.\n",
    "\n",
    "class Utility:\n",
    "  app_version = \"1.0\"\n",
    "\n",
    "  @classmethod\n",
    "  def get_version(cls):\n",
    "    print(f\"App Version: {cls.app_version}\")\n",
    "\n",
    "  @staticmethod\n",
    "  def greet():\n",
    "    print(\"Hello! Welcome to the app.\")\n",
    "\n",
    "Utility.get_version()\n",
    "Utility.greet()\n"
   ]
  },
  {
   "cell_type": "code",
   "execution_count": 4,
   "metadata": {},
   "outputs": [
    {
     "name": "stdout",
     "output_type": "stream",
     "text": [
      "Deposited $500. New balance: $1500\n",
      "Account Balance: $1500\n"
     ]
    }
   ],
   "source": [
    "# Encapsulation ensures that data is hidden and accessible only through methods.\n",
    "\n",
    "class Account:\n",
    "  def __init__(self, owner, balance=0):\n",
    "    self.owner = owner\n",
    "    self.__balance = balance\n",
    "\n",
    "  def deposit(self, amount):\n",
    "    if amount > 0:\n",
    "      self.__balance += amount\n",
    "      print(f\"Deposited ${amount}. New balance: ${self.__balance}\")\n",
    "    else:\n",
    "      print(\"Invalid deposit amount.\")\n",
    "\n",
    "  def get_balance(self):\n",
    "    return self.__balance\n",
    "\n",
    "account = Account(\"John Doe\", 1000)\n",
    "account.deposit(500)\n",
    "print(f\"Account Balance: ${account.get_balance()}\")"
   ]
  }
 ],
 "metadata": {
  "kernelspec": {
   "display_name": ".venv",
   "language": "python",
   "name": "python3"
  },
  "language_info": {
   "codemirror_mode": {
    "name": "ipython",
    "version": 3
   },
   "file_extension": ".py",
   "mimetype": "text/x-python",
   "name": "python",
   "nbconvert_exporter": "python",
   "pygments_lexer": "ipython3",
   "version": "3.12.7"
  }
 },
 "nbformat": 4,
 "nbformat_minor": 2
}
