{
 "cells": [
  {
   "cell_type": "code",
   "execution_count": null,
   "id": "88cb6eed",
   "metadata": {},
   "outputs": [],
   "source": [
    "# Introduction to Flask-SQLAlchemy\n",
    "# Setting up the Database\n",
    "# Creating Models for User Data\n",
    "# Handling User Registration"
   ]
  },
  {
   "cell_type": "code",
   "execution_count": null,
   "id": "9d00a85a",
   "metadata": {},
   "outputs": [],
   "source": [
    "# Intro to Flask-SQLAlchemy\n",
    "\n",
    "# SQL alchemy is an ORM for managing Database using Python.\n",
    "# Again, ORM stands for Object Relational Mapper.\n",
    "# It Abstracts SQL queries and allows database operations using \n",
    "# python classes and methods.\n",
    "\n",
    "# Now flask intergrates SQLAlchemy seamlessly via flask SQL alchemy which means\n",
    "# installation so we can install SQL alchemy by\n",
    "# \n",
    "# pip install flask-sqlalchemy\n",
    "\n",
    "# why SQL Alchemy ?\n",
    "\n",
    "# It simplifies database queries.\n",
    "# It works with multiple database systems like SQLite, MySQL, PostgreSQL\n",
    "# and it provides migration support.\n",
    "\n",
    "# "
   ]
  },
  {
   "cell_type": "code",
   "execution_count": null,
   "id": "ff7551bb",
   "metadata": {},
   "outputs": [],
   "source": [
    "# Setting up the Database\n",
    "\n",
    "# Now first we'll create a database configuration .\n",
    "# Database are confugured in flask via SQL.\n",
    "\n",
    "# configuration \n",
    "# app.config['SQLALCHEMY_DATABASE_URL'] = 'sqlite:///users.db'"
   ]
  },
  {
   "cell_type": "code",
   "execution_count": null,
   "id": "d3cc3ec0",
   "metadata": {},
   "outputs": [],
   "source": [
    "# Creating Models for User Data\n",
    "\n",
    "# Now we have to first define the user model\n"
   ]
  }
 ],
 "metadata": {
  "kernelspec": {
   "display_name": ".venv",
   "language": "python",
   "name": "python3"
  },
  "language_info": {
   "name": "python",
   "version": "3.12.7"
  }
 },
 "nbformat": 4,
 "nbformat_minor": 5
}
