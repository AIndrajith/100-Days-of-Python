{
 "cells": [
  {
   "cell_type": "code",
   "execution_count": null,
   "id": "3195442f",
   "metadata": {},
   "outputs": [],
   "source": [
    "# Introduction to Matplotlib\n",
    "\n",
    "# Creating Basic Plots\n",
    "\n",
    "# Customizing Graphs\n",
    "\n",
    "# Potting from Data Files "
   ]
  },
  {
   "cell_type": "code",
   "execution_count": null,
   "id": "e5e161f6",
   "metadata": {},
   "outputs": [],
   "source": [
    "# Introduction to Matplotlib\n",
    "\n",
    "# Matplotlib is a Python Library for creating static, interactive \n",
    "# and animated visualizations.\n",
    "# It is highly customizable, making it perfect for creating \n",
    "# publication quality plots.\n",
    "\n",
    "# Installing Matplotlib\n",
    "# pip install matplotlib"
   ]
  },
  {
   "cell_type": "code",
   "execution_count": null,
   "id": "17d62c9a",
   "metadata": {},
   "outputs": [],
   "source": [
    "# Creating Basic Plots\n",
    "\n",
    "# We can create line graph, Bar Chart, Scatter plot"
   ]
  },
  {
   "cell_type": "code",
   "execution_count": null,
   "id": "da5ca379",
   "metadata": {},
   "outputs": [],
   "source": [
    "# Customizing Graphs\n",
    "\n",
    "# first Adding Annotations and grids.\n",
    "# Adding annotations like you know we can create line style.\n",
    "# We can specify markers of how we want at a \n",
    "# particular point.\n",
    "# Example for our line graph we didn't see where the plots are.\n",
    "\n",
    "# Second creating subplots"
   ]
  }
 ],
 "metadata": {
  "kernelspec": {
   "display_name": ".venv",
   "language": "python",
   "name": "python3"
  },
  "language_info": {
   "name": "python",
   "version": "3.12.7"
  }
 },
 "nbformat": 4,
 "nbformat_minor": 5
}
