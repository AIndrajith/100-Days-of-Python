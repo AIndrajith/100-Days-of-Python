{
 "cells": [
  {
   "cell_type": "code",
   "execution_count": null,
   "id": "bd49234d",
   "metadata": {},
   "outputs": [],
   "source": [
    "# What are REST APIs?\n",
    "\n",
    "# Setting up a Flask REST API\n",
    "\n",
    "# Defining API Routes and Endpoints\n",
    "\n",
    "# Returning JSON Responses"
   ]
  },
  {
   "cell_type": "code",
   "execution_count": null,
   "id": "fd06288d",
   "metadata": {},
   "outputs": [],
   "source": [
    "# What are REST APIs?\n",
    "\n",
    "# Rest API s which stands for Representational State Transfer\n",
    "# is an architectural style for building APIs.\n",
    "\n",
    "# Rest APIs use HTTP methods to interact with resources.\n",
    "\n",
    "# There are four different types of methods that are basic, which are\n",
    "\n",
    "# POST which adds new data\n",
    "# GET which retrieves data\n",
    "# PUT which updates existing data\n",
    "# DELETE which removes data\n",
    "\n",
    "\n",
    "# Why build APIs?\n",
    "\n",
    "# first for data access\n",
    "# APIs enable sharing data across applications.\n",
    "# Scalability - APIs can scale to handle many requests.\n",
    "# Flexibility - clients can request only the data they need."
   ]
  },
  {
   "cell_type": "code",
   "execution_count": null,
   "id": "6d421199",
   "metadata": {},
   "outputs": [],
   "source": [
    "# Setting up a Flask REST API\n",
    "\n",
    "# for that we need to install some required packages which include flask and flask RESTful.\n",
    "# pip install flask-restful"
   ]
  }
 ],
 "metadata": {
  "kernelspec": {
   "display_name": ".venv",
   "language": "python",
   "name": "python3"
  },
  "language_info": {
   "name": "python",
   "version": "3.12.7"
  }
 },
 "nbformat": 4,
 "nbformat_minor": 5
}
