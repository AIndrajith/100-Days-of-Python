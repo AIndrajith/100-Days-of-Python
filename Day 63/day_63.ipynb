{
 "cells": [
  {
   "cell_type": "code",
   "execution_count": null,
   "id": "63c4d584",
   "metadata": {},
   "outputs": [],
   "source": [
    "# Understanding Collaborative Filtering\n",
    "\n",
    "# Working with a Movie Dataset\n",
    "\n",
    "# Building the Recommendation System\n",
    "\n",
    "# Computing Cosine Similarity"
   ]
  },
  {
   "cell_type": "code",
   "execution_count": null,
   "id": "9eb95ffe",
   "metadata": {},
   "outputs": [],
   "source": [
    "# Understanding Collaborative Filtering\n",
    "\n",
    "# What is Collaborative filtering:?\n",
    "\n",
    "# Collaborative filtering makes recommendations by analyzing \n",
    "# user preferences.\n",
    "# Now there are two different types.\n",
    "# 1.User based Filtering - which finds similar user and recommends\n",
    "#                           items they liked.\n",
    "# 2.Item based Filtering - which finds similar items based on user \n",
    "#                           ratings.\n",
    "\n",
    "# Cosinge similarity - measures the similarity between two vectors.\n"
   ]
  }
 ],
 "metadata": {
  "kernelspec": {
   "display_name": ".venv",
   "language": "python",
   "name": "python3"
  },
  "language_info": {
   "name": "python",
   "version": "3.12.7"
  }
 },
 "nbformat": 4,
 "nbformat_minor": 5
}
