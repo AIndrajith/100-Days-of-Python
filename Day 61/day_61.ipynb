{
 "cells": [
  {
   "cell_type": "code",
   "execution_count": null,
   "id": "c18bd423",
   "metadata": {},
   "outputs": [],
   "source": [
    "# Understanding HTML Structure and Tags\n",
    "\n",
    "# Using Python to Parse HTML Files\n",
    "\n",
    "# Extracting Target information\n",
    "\n",
    "# Formatting and saving Extracted Data "
   ]
  },
  {
   "cell_type": "code",
   "execution_count": null,
   "id": "e43da471",
   "metadata": {},
   "outputs": [],
   "source": []
  }
 ],
 "metadata": {
  "kernelspec": {
   "display_name": ".venv",
   "language": "python",
   "name": "python3"
  },
  "language_info": {
   "name": "python",
   "version": "3.12.7"
  }
 },
 "nbformat": 4,
 "nbformat_minor": 5
}
