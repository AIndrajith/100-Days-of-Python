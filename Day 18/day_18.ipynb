{
 "cells": [
  {
   "cell_type": "code",
   "execution_count": null,
   "metadata": {},
   "outputs": [],
   "source": [
    "# JSON files - JavaScript Object Notations\n",
    "# Reading JSON data\n",
    "# Writing JSON data\n",
    "# Modifying JSON data"
   ]
  },
  {
   "cell_type": "code",
   "execution_count": null,
   "metadata": {},
   "outputs": [],
   "source": [
    "# JSON is a lightweighr text based data format used for exchanging and storing data\n",
    "# JSON data is structured as key value pairs and support nested objects and arrays.\n",
    "\n",
    "[\n",
    "    {\"task\":\"Learn Python JSON\", \"Status\":\"Incomplete\"},\n",
    "    {\"task\":\"Build a To-Do App\", \"Status\":\"Complete\"}\n",
    "]"
   ]
  },
  {
   "cell_type": "code",
   "execution_count": 1,
   "metadata": {},
   "outputs": [
    {
     "name": "stdout",
     "output_type": "stream",
     "text": [
      "[{'task': 'Learn Python JSON', 'Status': 'Incomplete'}, {'task': 'Build a To-Do App', 'Status': 'Complete'}]\n"
     ]
    }
   ],
   "source": [
    "# Reading JSON Data\n",
    "\n",
    "import json\n",
    "\n",
    "with open('json_data','r') as file:\n",
    "    tasks = json.load(file)\n",
    "    print(tasks)"
   ]
  },
  {
   "cell_type": "code",
   "execution_count": 3,
   "metadata": {},
   "outputs": [],
   "source": [
    "# writing JSON data\n",
    "\n",
    "import json\n",
    "\n",
    "tasks = [\n",
    "    {\"task\":\"Complete Project\",\"status\":\"Incomplete\"}\n",
    "]\n",
    "\n",
    "with open('tasks.json','w') as file:\n",
    "    json.dump(tasks, file, indent=2)"
   ]
  },
  {
   "cell_type": "code",
   "execution_count": 4,
   "metadata": {},
   "outputs": [],
   "source": [
    "# Modifying JSON data\n",
    "\n",
    "import json\n",
    "\n",
    "with open('tasks.json','r') as file:\n",
    "    tasks = json.load(file)\n",
    "\n",
    "tasks.append({\"task\":\"Learn Python\", \"status\":\"Incomplete\"})\n",
    "\n",
    "with open('tasks.json','w') as file:\n",
    "    json.dump(tasks, file, indent=2)"
   ]
  }
 ],
 "metadata": {
  "kernelspec": {
   "display_name": ".venv",
   "language": "python",
   "name": "python3"
  },
  "language_info": {
   "codemirror_mode": {
    "name": "ipython",
    "version": 3
   },
   "file_extension": ".py",
   "mimetype": "text/x-python",
   "name": "python",
   "nbconvert_exporter": "python",
   "pygments_lexer": "ipython3",
   "version": "3.12.7"
  }
 },
 "nbformat": 4,
 "nbformat_minor": 2
}
