{
 "cells": [
  {
   "cell_type": "code",
   "execution_count": null,
   "id": "f0f18ad9",
   "metadata": {},
   "outputs": [],
   "source": [
    "# Currency Converter\n",
    "\n",
    "# Setting up Exchange rate Data\n",
    "# Building Conversion Logic\n",
    "# Creating a GUI for Interactivity\n",
    "# Validating User input"
   ]
  }
 ],
 "metadata": {
  "kernelspec": {
   "display_name": ".venv",
   "language": "python",
   "name": "python3"
  },
  "language_info": {
   "name": "python",
   "version": "3.12.7"
  }
 },
 "nbformat": 4,
 "nbformat_minor": 5
}
