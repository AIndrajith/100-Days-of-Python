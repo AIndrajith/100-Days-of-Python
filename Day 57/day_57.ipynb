{
 "cells": [
  {
   "cell_type": "code",
   "execution_count": null,
   "id": "2c05bbf1",
   "metadata": {},
   "outputs": [],
   "source": [
    "# Understanding ASCII Art Basics\n",
    "\n",
    "# Loading and Processing Images \n",
    "\n",
    "# Mapping Pixels to ASCII Characters\n",
    "\n",
    "# Generating ASCII Art"
   ]
  },
  {
   "cell_type": "code",
   "execution_count": null,
   "id": "42245334",
   "metadata": {},
   "outputs": [],
   "source": [
    "# What is ASCII Art?\n",
    "\n",
    "# ASCII art represents images using characters from the \n",
    "# ASCII table.\n",
    "# Example can be at the rate, the pound sign, percentage, star,\n",
    "# and dot.\n",
    "\n",
    "# so you'll use all these darker areas of an image correspond to a \n",
    "# dencer characters, while lighter areas use less dense characters.\n",
    "\n",
    "# there is a character mapping for brightness.\n",
    "# The characters mapped from darkest to lightest are in this \n",
    "# particular format.\n",
    "\n",
    "# @ # % * + = - : .\n",
    "\n",
    "# in here we need to install some libraries\n",
    "# pip install pillow"
   ]
  }
 ],
 "metadata": {
  "kernelspec": {
   "display_name": ".venv",
   "language": "python",
   "name": "python3"
  },
  "language_info": {
   "name": "python",
   "version": "3.12.7"
  }
 },
 "nbformat": 4,
 "nbformat_minor": 5
}
