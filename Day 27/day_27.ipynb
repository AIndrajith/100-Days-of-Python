{
 "cells": [
  {
   "cell_type": "code",
   "execution_count": null,
   "metadata": {},
   "outputs": [],
   "source": [
    "# What are Static and Class Methods \n",
    "# When to use Static vs Class Methods \n",
    "# Defining and Calling Static & Class Methods\n",
    "# Pracical use Cases"
   ]
  },
  {
   "cell_type": "code",
   "execution_count": 1,
   "metadata": {},
   "outputs": [
    {
     "name": "stdout",
     "output_type": "stream",
     "text": [
      "9\n",
      "200\n"
     ]
    }
   ],
   "source": [
    "# Static Methods which we have used earlier just in introduction was starts with a static method\n",
    "# and does not depend on instace or class attributes.\n",
    "# They are used for utility functions or operations that do not modify the object or class state.\n",
    "# They can be called on the class directly, so we don't need an object for that.\n",
    "\n",
    "# We have class methods which we can tell by at the rate class method identifier added in front of it.\n",
    "# they operate on class level attributes, not instance attributes, and often used for factory methods \n",
    "# or modifying class variables, and they receive the class CLS as the tirst argument.\n",
    "\n",
    "\n",
    "class Calculator:\n",
    "    base_value = 100\n",
    "\n",
    "    @staticmethod\n",
    "    def add(value1, value2):\n",
    "        return value1 + value2\n",
    "    \n",
    "    @classmethod\n",
    "    def multiply_base(cls, multiplier):\n",
    "        return cls.base_value * multiplier\n",
    "    \n",
    "# using static method\n",
    "print(Calculator.add(4,5))\n",
    "\n",
    "# using class method\n",
    "print(Calculator.multiply_base(2))"
   ]
  },
  {
   "cell_type": "code",
   "execution_count": null,
   "metadata": {},
   "outputs": [],
   "source": [
    "# When to use Static vs Class Methods \n",
    "\n",
    "# static methods you use for utility functions or calculations. \n",
    "# it does not access instance attributes.\n",
    "# it does not need access through class attributes\n",
    "\n",
    "# class methods \n",
    "# they are used when we create factory methods or shared state.\n",
    "# no need to access of instace attributes\n",
    "# it need to access class attributes"
   ]
  },
  {
   "cell_type": "code",
   "execution_count": 2,
   "metadata": {},
   "outputs": [
    {
     "name": "stdout",
     "output_type": "stream",
     "text": [
      "hello, John\n"
     ]
    }
   ],
   "source": [
    "# Defining and Calling Static & Class Methods\n",
    "\n",
    "class Utility:\n",
    "    @staticmethod\n",
    "    def greet_user(name):\n",
    "        print(f\"hello, {name}\")\n",
    "\n",
    "Utility.greet_user(\"John\")    "
   ]
  },
  {
   "cell_type": "code",
   "execution_count": 3,
   "metadata": {},
   "outputs": [
    {
     "name": "stdout",
     "output_type": "stream",
     "text": [
      "10\n"
     ]
    }
   ],
   "source": [
    "class Counter:\n",
    "    count = 0\n",
    "\n",
    "    @classmethod\n",
    "    def increment(cls):\n",
    "        cls.count += 10\n",
    "\n",
    "Counter.increment()\n",
    "print(Counter.count)    "
   ]
  },
  {
   "cell_type": "code",
   "execution_count": null,
   "metadata": {},
   "outputs": [],
   "source": [
    "# Pracical use Cases\n",
    "\n",
    "# utility task examples data validation or formatting for class methods\n",
    "# managing class level data \n",
    "# - examples can be counters which we saw can be factory pattern that we using"
   ]
  }
 ],
 "metadata": {
  "kernelspec": {
   "display_name": ".venv",
   "language": "python",
   "name": "python3"
  },
  "language_info": {
   "codemirror_mode": {
    "name": "ipython",
    "version": 3
   },
   "file_extension": ".py",
   "mimetype": "text/x-python",
   "name": "python",
   "nbconvert_exporter": "python",
   "pygments_lexer": "ipython3",
   "version": "3.12.7"
  }
 },
 "nbformat": 4,
 "nbformat_minor": 2
}
