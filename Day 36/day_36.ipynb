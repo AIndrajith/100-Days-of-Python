{
 "cells": [
  {
   "cell_type": "code",
   "execution_count": null,
   "id": "64a40376",
   "metadata": {},
   "outputs": [],
   "source": [
    "# What is Flask?\n",
    "# Setting up flask\n",
    "# Creating First Flask Route\n",
    "# Understanding Flask Templates"
   ]
  },
  {
   "cell_type": "code",
   "execution_count": null,
   "id": "a7ab74be",
   "metadata": {},
   "outputs": [],
   "source": [
    "# Flask is a micro web framework for python\n",
    "# It's designed to be simple, lightweight and highly customizable\n",
    "# flask is often for building APIs, dynamic websites and microservices.\n",
    "\n",
    "# Why use Flask?\n",
    "# It's because lighweight, which is minimal boilerplate code, and that's what we will look at.\n",
    "# It's scalable, easy expandable for larger projects, \n",
    "# it's flexible. \n",
    "# it supports extension for advanced features and is pythonic, which means it's easy integration with python libraries."
   ]
  },
  {
   "cell_type": "code",
   "execution_count": null,
   "id": "b0d67c70",
   "metadata": {},
   "outputs": [],
   "source": [
    "# Understanding flask Templates.\n",
    "\n",
    "# Flask uses HTML templates to render dynamic content\n",
    "\n",
    "# install flack in python\n",
    "# \"pip install flask\""
   ]
  }
 ],
 "metadata": {
  "kernelspec": {
   "display_name": ".venv",
   "language": "python",
   "name": "python3"
  },
  "language_info": {
   "codemirror_mode": {
    "name": "ipython",
    "version": 3
   },
   "file_extension": ".py",
   "mimetype": "text/x-python",
   "name": "python",
   "nbconvert_exporter": "python",
   "pygments_lexer": "ipython3",
   "version": "3.12.7"
  }
 },
 "nbformat": 4,
 "nbformat_minor": 5
}
