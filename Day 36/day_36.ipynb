{
 "cells": [
  {
   "cell_type": "code",
   "execution_count": null,
   "id": "64a40376",
   "metadata": {},
   "outputs": [],
   "source": [
    "# What is Flask?\n",
    "# Setting up flask\n",
    "# Creating First Flask Route\n",
    "# Understanding Flask Templates"
   ]
  },
  {
   "cell_type": "code",
   "execution_count": null,
   "id": "a7ab74be",
   "metadata": {},
   "outputs": [],
   "source": [
    "# Flask is a micro web framework for python\n",
    "# It's designed to be simple, lightweight and highly customizable\n",
    "# flask is often for building APIs, dynamic websites and microservices.\n",
    "\n",
    "# Why use Flask?\n",
    "# It's because lighweight, which is minimal boilerplate code, and that's what we will look at.\n",
    "# It's scalable, easy expandable for larger projects, \n",
    "# it's flexible. \n",
    "# it supports extension for advanced features and is pythonic, which means it's easy integration with python libraries."
   ]
  },
  {
   "cell_type": "code",
   "execution_count": null,
   "id": "b0d67c70",
   "metadata": {},
   "outputs": [],
   "source": [
    "# Understanding flask Templates.\n",
    "\n",
    "# Flask uses HTML templates to render dynamic content"
   ]
  }
 ],
 "metadata": {
  "kernelspec": {
   "display_name": ".venv",
   "language": "python",
   "name": "python3"
  },
  "language_info": {
   "name": "python",
   "version": "3.12.7"
  }
 },
 "nbformat": 4,
 "nbformat_minor": 5
}
