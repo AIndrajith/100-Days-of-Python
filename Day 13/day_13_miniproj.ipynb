{
 "cells": [
  {
   "cell_type": "code",
   "execution_count": 3,
   "metadata": {},
   "outputs": [
    {
     "name": "stdout",
     "output_type": "stream",
     "text": [
      "\n",
      "---- Sudent Grades ----\n",
      "Student 1: Score = 30, Grade = F\n",
      "Student 2: Score = 50, Grade = F\n",
      "Student 3: Score = 65, Grade = D\n",
      "Student 4: Score = 60, Grade = D\n",
      "Student 5: Score = 100, Grade = A\n",
      "Student 6: Score = 80, Grade = B\n",
      "Student 7: Score = 99, Grade = A\n",
      "\n",
      "--- Passing and Failing Students ---\n",
      "Passing Students:  [65, 60, 100, 80, 99]\n",
      "Failing Students:  [30, 50]\n"
     ]
    }
   ],
   "source": [
    "# Student Grade Manager\n",
    "\n",
    "# Step 1: Get student scores\n",
    "student_scores = input(\"Enter student scores separated by commas: \")\n",
    "scores = [int(score) for score in student_scores.split(\",\")]\n",
    "\n",
    "# Step 2: Assign Grades using List Comprehension\n",
    "grades = [\n",
    "    \"A\" if score >= 90 else\n",
    "    \"B\" if score >= 80 else\n",
    "    \"C\" if score >= 70 else\n",
    "    \"D\" if score >= 60 else\n",
    "    \"F\"\n",
    "    for score in scores\n",
    "]\n",
    "\n",
    "# step 3: Filter passing and Failing Students\n",
    "passing_students = [score for score in scores if score >= 60]\n",
    "failing_students = [score for score in scores if score < 60]\n",
    "\n",
    "# Step 4: Print Results\n",
    "print(\"\\n---- Sudent Grades ----\")\n",
    "for i, (score,grade) in enumerate(zip(scores,grades), start=1):\n",
    "    print(f\"Student {i}: Score = {score}, Grade = {grade}\")\n",
    "\n",
    "print(\"\\n--- Passing and Failing Students ---\")\n",
    "print(\"Passing Students: \",passing_students)\n",
    "print(\"Failing Students: \",failing_students)"
   ]
  }
 ],
 "metadata": {
  "kernelspec": {
   "display_name": ".venv",
   "language": "python",
   "name": "python3"
  },
  "language_info": {
   "codemirror_mode": {
    "name": "ipython",
    "version": 3
   },
   "file_extension": ".py",
   "mimetype": "text/x-python",
   "name": "python",
   "nbconvert_exporter": "python",
   "pygments_lexer": "ipython3",
   "version": "3.12.7"
  }
 },
 "nbformat": 4,
 "nbformat_minor": 2
}
