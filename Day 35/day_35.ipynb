{
 "cells": [
  {
   "cell_type": "code",
   "execution_count": null,
   "id": "7f0cabd4",
   "metadata": {},
   "outputs": [],
   "source": [
    "# Combining Tkinter Widgets for a complex App\n",
    "# Managing user input and Validation \n",
    "# Displaying Dynamic Data in listBox\n",
    "# Implementing File Handling for Data Persistence "
   ]
  },
  {
   "cell_type": "code",
   "execution_count": null,
   "id": "59649b47",
   "metadata": {},
   "outputs": [],
   "source": []
  }
 ],
 "metadata": {
  "kernelspec": {
   "display_name": ".venv",
   "language": "python",
   "name": "python3"
  },
  "language_info": {
   "name": "python",
   "version": "3.12.7"
  }
 },
 "nbformat": 4,
 "nbformat_minor": 5
}
