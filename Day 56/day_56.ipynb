{
 "cells": [
  {
   "cell_type": "code",
   "execution_count": null,
   "id": "57921597",
   "metadata": {},
   "outputs": [],
   "source": [
    "# Setting Up Budget Categores and Goals\n",
    "\n",
    "# Tracking Income and Expences\n",
    "\n",
    "# Calculating Saving and Insights\n",
    "\n",
    "# Visualizing Financial Data"
   ]
  },
  {
   "cell_type": "code",
   "execution_count": null,
   "id": "51c4f676",
   "metadata": {},
   "outputs": [],
   "source": [
    "# Setting Up Budget Categores and Goals\n",
    "\n",
    "# we'll create predefined categoris for expenses where what are the\n",
    "# the common ones we know about housing \n",
    "\n",
    "# housing, food, transportation, entertainment and savings\n",
    "\n"
   ]
  }
 ],
 "metadata": {
  "kernelspec": {
   "display_name": ".venv",
   "language": "python",
   "name": "python3"
  },
  "language_info": {
   "codemirror_mode": {
    "name": "ipython",
    "version": 3
   },
   "file_extension": ".py",
   "mimetype": "text/x-python",
   "name": "python",
   "nbconvert_exporter": "python",
   "pygments_lexer": "ipython3",
   "version": "3.12.7"
  }
 },
 "nbformat": 4,
 "nbformat_minor": 5
}
